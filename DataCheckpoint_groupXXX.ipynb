{
 "cells": [
  {
   "cell_type": "markdown",
   "metadata": {},
   "source": [
    "**If you lost points on the last checkpoint you can get them back by responding to TA/IA feedback**  \n",
    "\n",
    "Update/change the relevant sections where you lost those points, make sure you respond on GitHub Issues to your TA/IA to call their attention to the changes you made here.\n",
    "\n",
    "Please update your Timeline... no battle plan survives contact with the enemy, so make sure we understand how your plans have changed."
   ]
  },
  {
   "cell_type": "markdown",
   "metadata": {},
   "source": [
    "# COGS 108 - Data Checkpoint"
   ]
  },
  {
   "cell_type": "markdown",
   "metadata": {},
   "source": [
    "# Names\n",
    "\n",
    "- Chloe Kwan\n",
    "- Anik Alam\n",
    "- Anusha Rao\n",
    "- Sophie Phung\n",
    "- Patric Sanchez"
   ]
  },
  {
   "cell_type": "markdown",
   "metadata": {},
   "source": [
    "# Research Question"
   ]
  },
  {
   "cell_type": "markdown",
   "metadata": {},
   "source": [
    "Our research question is: What is the economic impact of Taylor Swift’s tour stops on the local economics of different cities? How do factors (such as venue size, average ticket price, concert attendance, etc.) impact sectors such as retail, hospitality, and the restaurant industry?"
   ]
  },
  {
   "cell_type": "markdown",
   "metadata": {},
   "source": [
    "## Background and Prior Work"
   ]
  },
  {
   "cell_type": "markdown",
   "metadata": {},
   "source": [
    "\n",
    "In 2023, singer Taylor Swift embarked on a tour of her greatest hit songs, aptly titled “The Eras Tour”. The tour spanned 53 stops throughout the United States, beginning in March and ending in August. Swift then continued touring in Latin America, Asia, and Australia into 2024, with plans to continue touring Europe and the remaining North American stops till the end of 2024.\n",
    "\n",
    "Swift has been praised for helping boost the tourism industry at the various cities she visited on her United States tour. As fans flocked to city centers to witness her performance, they expended savings accumulated during the COVID-19 pandemic on tourism and hospitality prior to the big event. In what is dubbed as “Swiftonomics<a name=\"cite_ref-1\"></a>[<sup>1</sup>](#cite_note-1),” the economic implications of the Eras Tour fascinated economists as they gathered data to understand these statistics. States reported receiving millions towards their economies, with metropolitans, such as Los Angeles, also seeing an increase in thousands of jobs to meet the demand. However, with the increased willingness to spend on tourism, there was also record inflation in certain sectors, as the prices of transportation and lodging shot up, with dwindling supply attempting to match significant demand.\n",
    "\n",
    "Previous studies that have been done on this topic primarily consist of new articles which report increases in spending when Swift visits these cities. For example, this study<a name=\"cite_ref-2\"></a>[<sup>2</sup>](#cite_note-2) states that the Eras Tour added 5 billion dollars to the economy. Other research works<a name=\"cite_ref-3\"></a>[<sup>3</sup>](#cite_note-3) examine the use of the words “Taylor Swift” as a marketing tool, whether or not the singer even stops in the city. For example, in San Diego, a sushi restaurant hosted a Swift-themed night the same week the singer was in Los Angeles, and immediately sold out. According to another study<a name=\"cite_ref-4\"></a>[<sup>4</sup>](#cite_note-4), of the 53 stops in 20 cities, the average fan spent nearly $1300 on travel, hotel stays, food, and merchandise. In Pittsburgh, average room rates saw a 106% increase, with 83% of guests coming from outside the host county. We have not seen a comprehensive city-by-city analysis, and are curious as to which cities saw the greatest boosts in revenue, which sectors are most crucial to economic success, and if ticket pricing and number sold come into contention. With such a variety in demographics and areas visited, our group is interested in analyzing which areas saw the greatest growth in revenue, and where inflation hurt consumers the most.\n",
    "1. <a name=\"https://www.investopedia.com/swiftonomics-definition-8601178\"></a> [^](#cite_ref-1) Mitra, M. (8 Mar 2024) Swiftonomics: The Economic Influence of Taylor Swift. *Investopedia*. https://www.investopedia.com/swiftonomics-definition-8601178 \n",
    "2. <a name=\"https://www.cbsnews.com/news/taylor-swift-eras-tour-boosted-economy-tourism-federal-reserve-how-much-money-made/\"></a> [^](#cite_ref-2) O'Kane, C. (18 Jul 2023) The Federal Reserve says Taylor Swift's Eras Tour boosted the economy. One market research firm estimates she could add $5 billion *CBS New*. https://www.cbsnews.com/news/taylor-swift-eras-tour-boosted-economy-tourism-federal-reserve-how-much-money-made/\n",
    "3. <a name=\"https://www.cnbc.com/2024/03/01/the-taylor-swift-economic-effect-has-reached-every-town-in-america.html\"></a> [^](#cite_ref-3) Williams, K. (1 Mar 2024) The Taylor Swift economy has reached every town in America, from small business moms to skating rinks and sushi bars. *CNBC*. https://www.cnbc.com/2024/03/01/the-taylor-swift-economic-effect-has-reached-every-town-in-america.html \n",
    "4. <a name=\"https://www.ustravel.org/news/taylor-swift-impact-5-months-and-5-billion\"></a> [^](#cite_ref-4) (19 Sept 2023) The Taylor Swift Impact – 5 Months and $5+ Billion. *U.S. Travel Association*. https://www.ustravel.org/news/taylor-swift-impact-5-months-and-5-billion \n"
   ]
  },
  {
   "cell_type": "markdown",
   "metadata": {},
   "source": [
    "# Hypothesis\n"
   ]
  },
  {
   "cell_type": "markdown",
   "metadata": {},
   "source": [
    "\n",
    "- While it may depend on the size and economic state of the city, we hypothesize that Taylor Swift’s tour locations cause local economies to see a sharp spike; particularly within hotels, transportation, food, and other amenities due to her massive fanbase and cultural impact; LA for example might see relatively less economic impact compared to other smaller cities.\n",
    "- Regardless of the city or region, a Taylor Swift concert will have an impact on any local economy, increasing the prices of most amenities including: food, hotels/shelter, and transportation; Though we believe that international concert locations will see a larger impact compared to concerts held within the United States.\n",
    "\n",
    "Particularly because of how popular Taylor Swift is, and how large her fanbase and cultural impact is, we expect that businesses will take this into consideration if there is a tour nearby and shift their pricing for services/accomodations accordingly in order to maximize profits. This, alongside a large influx of tourists will naturally increase the demand and congestion of services as people will book hotels with as much advance as possible, visit local restaurants/fast food chains, and have to use transportation services especially if they are traveling.\n"
   ]
  },
  {
   "cell_type": "markdown",
   "metadata": {},
   "source": [
    "# Data"
   ]
  },
  {
   "cell_type": "markdown",
   "metadata": {},
   "source": [
    "## Data overview\n",
    "\n",
    "For each dataset include the following information\n",
    "- Dataset #1\n",
    "  - Dataset Name:\n",
    "  - Link to the dataset:\n",
    "  - Number of observations:\n",
    "  - Number of variables:\n",
    "- Dataset #2 (if you have more than one!)\n",
    "  - Dataset Name:\n",
    "  - Link to the dataset:\n",
    "  - Number of observations:\n",
    "  - Number of variables:\n",
    "- etc\n",
    "\n",
    "Now write 2 - 5 sentences describing each dataset here. Include a short description of the important variables in the dataset; what the metrics and datatypes are, what concepts they may be proxies for. Include information about how you would need to wrangle/clean/preprocess the dataset\n",
    "\n",
    "If you plan to use multiple datasets, add a few sentences about how you plan to combine these datasets."
   ]
  },
  {
   "cell_type": "markdown",
   "metadata": {},
   "source": [
    "## Dataset #1 (use name instead of number here)"
   ]
  },
  {
   "cell_type": "code",
   "execution_count": null,
   "metadata": {},
   "outputs": [],
   "source": [
    "## YOUR CODE TO LOAD/CLEAN/TIDY/WRANGLE THE DATA GOES HERE\n",
    "## FEEL FREE TO ADD MULTIPLE CELLS PER SECTION "
   ]
  },
  {
   "cell_type": "markdown",
   "metadata": {},
   "source": [
    "## Dataset #2 (if you have more than one, use name instead of number here)"
   ]
  },
  {
   "cell_type": "code",
   "execution_count": null,
   "metadata": {},
   "outputs": [],
   "source": [
    "## YOUR CODE TO LOAD/CLEAN/TIDY/WRANGLE THE DATA GOES HERE\n",
    "## FEEL FREE TO ADD MULTIPLE CELLS PER SECTION "
   ]
  },
  {
   "cell_type": "markdown",
   "metadata": {},
   "source": [
    "# Ethics & Privacy"
   ]
  },
  {
   "cell_type": "markdown",
   "metadata": {},
   "source": [
    "Possible ethical implications include ensuring the informed consent of those whose data may end up being collected, such as their financial or demographic information. However, the datasets we are choosing to utilize contain no personally identifiable information, so there are limited consequences for privacy and confidentiality. There should also be ethical consideration given to the long-term consequences of analyzing and sharing our results to the public, as it may influence others’ public perceptions of Taylor Swift and the Eras Tour, potentially affecting advertising and investment decisions. This may also have ethical implications surrounding the effect on hotels and small businesses/restaurants whose finances we would analyze as part of the local economies of each city, or the disruption to daily lives that local residents face. Thus, we must ensure that the data we collect is accurate and transparent in its collection, so that biases do not lead to inaccurate conclusions that harm the well-being of businesses and communities.\n"
   ]
  },
  {
   "cell_type": "markdown",
   "metadata": {},
   "source": [
    "# Team Expectations "
   ]
  },
  {
   "cell_type": "markdown",
   "metadata": {},
   "source": [
    "\n",
    "* **To respond in a timely manner and communicate work, concerns, and conflicts.**\n",
    "* **To complete work in a timely manner.**\n",
    "* **To contribute the expected amount as communicated with the team.**\n",
    "\n",
    "Though work may be split differently amongst specific portions of the project, overall delegation of tasks are expected to be completed by their outline due dates. Team members are expected to contribute to the following project aspects as outlined in the Team Policies:\n",
    "- “Deciding on the project topic, searching for possible datasets, and honing the data science question.\n",
    "- Writing well-commented and clear code to wrangle, explore, visualize, analyze, and communicate your groups’ findings.\n",
    "- Writing the accompanying text throughout the project to explain each section.\n",
    "- Editing the text and code throughout your project for grammar, misspellings, and clarity.”\n",
    "\n",
    "(Courtesy of the COGS 108 Team Policies) \n",
    "\n",
    "Team members are also expected to attend regular meetings which are scheduled in advance, to work individually/in pairs when needed, and to communicate any discrepancies they may encounter which may include scheduling conflicts, issues involving project, etc.\n",
    "\n",
    "In the case a team member does not cooperate, an email will be sent informing them for the lack of work contributed, requiring them to demonstrate significant improvement within a week in the outlined tasks relay to them. If there are no actions taken, the professor will be notified.\n"
   ]
  },
  {
   "cell_type": "markdown",
   "metadata": {},
   "source": [
    "# Project Timeline Proposal"
   ]
  },
  {
   "cell_type": "markdown",
   "metadata": {},
   "source": [
    "\n",
    "\n",
    "\n",
    "| Meeting Date  | Meeting Time| Completed Before Meeting  | Discuss at Meeting |\n",
    "|---|---|---|---|\n",
    "| 5/10  |  3 PM | Proposal submitted, begin compiling data for the dataset| Discuss possible factors(narrowing or widening the list), discuss possible analytical approaches. Assign and delegate work. | \n",
    "| 5/17  |  3 PM |  Import, Wrangle, & CLean Data. Begin EDA | Review data and cleaning processes. Discuss how to proceed with analytics. Assign work. | \n",
    "| 5/24  |  3 PM  | Finish dataset management, wrangling. Reach a midway point regarding analytics| Discuss analysis work. Continue delegating remaining work. |\n",
    "| 5/31  |  3 PM  | Complete analysis; Brainstorm conclusion remarks.| Discuss results, finish analyses, write-up conclusions.|\n",
    "| 6/7   |  3 PM  | Brainstorm video ideas, write out script.| Film and complete video, ensure it meets all guidelines stated by the syllabus. Complete surveys.|\n",
    "| 6/12  | Before 11:59 PM  | Final project*, video*, team eval survey, post-course survey due | Turn in Final Project & Group Project Surveys |"
   ]
  },
  {
   "cell_type": "markdown",
   "metadata": {},
   "source": []
  }
 ],
 "metadata": {
  "kernelspec": {
   "display_name": "Python 3 (ipykernel)",
   "language": "python",
   "name": "python3"
  },
  "language_info": {
   "codemirror_mode": {
    "name": "ipython",
    "version": 3
   },
   "file_extension": ".py",
   "mimetype": "text/x-python",
   "name": "python",
   "nbconvert_exporter": "python",
   "pygments_lexer": "ipython3",
   "version": "3.9.7"
  }
 },
 "nbformat": 4,
 "nbformat_minor": 2
}
