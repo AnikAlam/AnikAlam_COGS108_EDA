{
 "cells": [
  {
   "cell_type": "markdown",
   "metadata": {},
   "source": [
    "# COGS 108 - Project Proposal"
   ]
  },
  {
   "cell_type": "markdown",
   "metadata": {},
   "source": [
    "# Names\n",
    "\n",
    "- Chloe Kwan\n",
    "- Anik Alam\n",
    "- Anusha Rao\n",
    "- Sophie Phung"
   ]
  },
  {
   "cell_type": "markdown",
   "metadata": {},
   "source": [
    "# Research Question"
   ]
  },
  {
   "cell_type": "markdown",
   "metadata": {},
   "source": [
    "Our research question is: What is the economic impact of Taylor Swift’s tour stops on the local economics of different cities? How do factors (such as venue size, average ticket price, concert attendance, etc.) impact sectors such as retail, hospitality, and the restaurant industry?"
   ]
  },
  {
   "cell_type": "markdown",
   "metadata": {},
   "source": [
    "## Background and Prior Work"
   ]
  },
  {
   "cell_type": "markdown",
   "metadata": {},
   "source": [
    "\n",
    "In 2023, singer Taylor Swift embarked on a tour of her greatest hit songs, aptly titled “The Eras Tour”. The tour spanned 53 stops throughout the United States, beginning in March and ending in August. Swift then continued touring in Latin America, Asia, and Australia into 2024, with plans to continue touring Europe and the remaining North American stops till the end of 2024.\n",
    
    "Swift has been praised for helping boost the tourism industry at the various cities she visited on her United States tour. As fans flocked to city centers to witness her performance, they expended savings accumulated during the COVID-19 pandemic on tourism and hospitality prior to the big event. In what is dubbed as “Swiftonomics<a name=\"cite_ref-1\"></a>[<sup>1</sup>](#cite_note-1),” the economic implications of the Eras Tour fascinated economists as they gathered data to understand these statistics. States reported receiving millions towards their economies, with metropolitans, such as Los Angeles, also seeing an increase in thousands of jobs to meet the demand. However, with the increased willingness to spend on tourism, there was also record inflation in certain sectors, as the prices of transportation and lodging shot up, with dwindling supply attempting to match significant demand.\n",
    
    "Previous studies that have been done on this topic primarily consist of new articles which report increases in spending when Swift visits these cities. For example, this study states that the Eras Tour added 5 billion dollars to the economy. Other research works examine the use of the words “Taylor Swift” as a marketing tool, whether or not the singer even stops in the city. For example, in San Diego, a sushi restaurant hosted a Swift-themed night the same week the singer was in Los Angeles, and immediately sold out. According to another study, of the 53 stops in 20 cities, the average fan spent nearly $1300 on travel, hotel stays, food, and merchandise. In Pittsburgh, average room rates saw a 106% increase, with 83% of guests coming from outside the host county. We have not seen a comprehensive city-by-city analysis, and are curious as to which cities saw the greatest boosts in revenue, which sectors are most crucial to economic success, and if ticket pricing and number sold come into contention. With such a variety in demographics and areas visited, our group is interested in analyzing which areas saw the greatest growth in revenue, and where inflation hurt consumers the most.\n",
    
    "This section will present the background and context of your topic and question in a few paragraphs. Include a general introduction to your topic and then describe what information you currently know about the topic after doing your initial research. Include references to other projects who have asked similar questions or approached similar problems. Explain what others have learned in their projects.\n",
    "\n",
    "Find some relevant prior work, and reference those sources, summarizing what each did and what they learned. Even if you think you have a totally novel question, find the most similar prior work that you can and discuss how it relates to your project.\n",
    "\n",
    "References can be research publications, but they need not be. Blogs, GitHub repositories, company websites, etc., are all viable references if they are relevant to your project. It must be clear which information comes from which references. (2-3 paragraphs, including at least 2 references)\n",
    "\n",
    " **Use inline citation through HTML footnotes to specify which references support which statements** \n",
    "\n",
    "For example: After government genocide in the 20th century, real birds were replaced with surveillance drones designed to look just like birds.<a name=\"cite_ref-1\"></a>[<sup>1</sup>](#cite_note-1) Use a minimum of 2 or 3 citations, but we prefer more.<a name=\"cite_ref-2\"></a>[<sup>2</sup>](#cite_note-2) You need enough to fully explain and back up important facts. \n",
    "\n",
    "Note that if you click a footnote number in the paragraph above it will transport you to the proper entry in the footnotes list below.  And if you click the ^ in the footnote entry, it will return you to the place in the main text where the footnote is made.\n",
    "\n",
    "To understand the HTML here, `<a name=\"#...\"> </a>` is a tag that allows you produce a named reference for a given location.  Markdown has the construciton `[text with hyperlink](#named reference)` that will produce a clickable link that transports you the named reference.\n",
    "\n",
    "1. <a name=\"https://www.investopedia.com/swiftonomics-definition-8601178\"></a> [^](#cite_ref-1) Mitra, M. (8 Mar 2024) Swiftonomics: The Economic Influence of Taylor Swift. *Investopedia*. https://www.investopedia.com/swiftonomics-definition-8601178 \n",
    "2. <a name=\"cite_note-2\"></a> [^](#cite_ref-2) Also refs should be important to the background, not some randomly chosen vaguely related stuff. Include a web link if possible in refs as above.\n"
   ]
  },
  {
   "cell_type": "markdown",
   "metadata": {},
   "source": [
    "# Hypothesis\n"
   ]
  },
  {
   "cell_type": "markdown",
   "metadata": {},
   "source": [
    "\n",
    "- While it may depend on the size and economic state of the city, we hypothesize that Taylor Swift’s tour locations cause local economies to see a sharp spike; particularly within hotels, transportation, food, and other amenities due to her massive fanbase and cultural impact; LA for example might see relatively less economic impact compared to other smaller cities.\n",
    "- Regardless of the city or region, a Taylor Swift concert will have an impact on any local economy, increasing the prices of most amenities including: food, hotels/shelter, and transportation; Though we believe that international concert locations will see a larger impact compared to concerts held within the United States.\n",
    "\n",
    "Particularly because of how popular Taylor Swift is, and how large her fanbase and cultural impact is, we expect that businesses will take this into consideration if there is a tour nearby and shift their pricing for services/accomodations accordingly in order to maximize profits. This, alongside a large influx of tourists will naturally increase the demand and congestion of services as people will book hotels with as much advance as possible, visit local restaurants/fast food chains, and have to use transportation services especially if they are traveling.\n"
   ]
  },
  {
   "cell_type": "markdown",
   "metadata": {},
   "source": [
    "# Data"
   ]
  },
  {
   "cell_type": "markdown",
   "metadata": {},
   "source": [
    "1. The ideal dataset for our proposed question would likely actually consist of several due to the nature of our question: We would collect this data through ticket selling services as well as research venue information for previous concerts as well as upcoming concerts.\n",
    "    - Hotel Prices\n",
    "    - Restaurant Prices\n",
    "    - Transportation Costs\n",
    "    - Ticket Costs\n",
    "    - Venue Size + Concert Attendance\n",
    "1. Some resources that show this data is actually obtainable are the pricing impacts of the current International Eras Tour as well as the impact of concerts in LA County\n",
    "    - https://www.mylighthouse.com/resources/blog/taylor-swift-eras-tour-arrives-in-europe-and-ignites-hotel-room-prices \n",
    "    - https://centerforjobs.org/ca/special-reports/special-report-taylor-swifts-impact-on-the-economy-in-los-angeles-county"
   ]
  },
  {
   "cell_type": "markdown",
   "metadata": {},
   "source": [
    "# Ethics & Privacy"
   ]
  },
  {
   "cell_type": "markdown",
   "metadata": {},
   "source": [
    "- Thoughtful discussion of ethical concerns included\n",
    "- Ethical concerns consider the whole data science process (question asked, data collected, data being used, the bias in data, analysis, post-analysis, etc.)\n",
    "- How your group handled bias/ethical concerns clearly described\n",
    "\n",
    "Acknowledge and address any ethics & privacy related issues of your question(s), proposed dataset(s), and/or analyses. Use the information provided in lecture to guide your group discussion and thinking. If you need further guidance, check out [Deon's Ethics Checklist](http://deon.drivendata.org/#data-science-ethics-checklist). In particular:\n",
    "\n",
    "- Are there any biases/privacy/terms of use issues with the data you propsed?\n",
    "- Are there potential biases in your dataset(s), in terms of who it composes, and how it was collected, that may be problematic in terms of it allowing for equitable analysis? (For example, does your data exclude particular populations, or is it likely to reflect particular human biases in a way that could be a problem?)\n",
    "- How will you set out to detect these specific biases before, during, and after/when communicating your analysis?\n",
    "- Are there any other issues related to your topic area, data, and/or analyses that are potentially problematic in terms of data privacy and equitable impact?\n",
    "- How will you handle issues you identified?"
   ]
  },
  {
   "cell_type": "markdown",
   "metadata": {},
   "source": [
    "# Team Expectations "
   ]
  },
  {
   "cell_type": "markdown",
   "metadata": {},
   "source": [
    "\n",
    "* **To respond in a timely manner and communicate work, concerns, and conflicts.**\n",
    "* **To complete work in a timely manner.**\n",
    "* **To contribute the expected amount as communicated with the team.**\n",
    "\n",
    "Though work may be split differently amongst specific portions of the project, overall delegation of tasks are expected to be completed by their outline due dates. Team members are expected to contribute to the following project aspects as outlined in the Team Policies:\n",
    "- “Deciding on the project topic, searching for possible datasets, and honing the data science question.\n",
    "- Writing well-commented and clear code to wrangle, explore, visualize, analyze, and communicate your groups’ findings.\n",
    "- Writing the accompanying text throughout the project to explain each section.\n",
    "- Editing the text and code throughout your project for grammar, misspellings, and clarity.”"
   ]
  },
  {
   "cell_type": "markdown",
   "metadata": {},
   "source": [
    "# Project Timeline Proposal"
   ]
  },
  {
   "cell_type": "markdown",
   "metadata": {},
   "source": [
    "Specify your team's specific project timeline. An example timeline has been provided. Changes the dates, times, names, and details to fit your group's plan.\n",
    "\n",
    "If you think you will need any special resources or training outside what we have covered in COGS 108 to solve your problem, then your proposal should state these clearly. For example, if you have selected a problem that involves implementing multiple neural networks, please state this so we can make sure you know what you’re doing and so we can point you to resources you will need to implement your project. Note that you are not required to use outside methods.\n",
    "\n",
    "\n",
    "\n",
    "| Meeting Date  | Meeting Time| Completed Before Meeting  | Discuss at Meeting |\n",
    "|---|---|---|---|\n",
    "| 1/20  |  1 PM | Read & Think about COGS 108 expectations; brainstorm topics/questions  | Determine best form of communication; Discuss and decide on final project topic; discuss hypothesis; begin background research | \n",
    "| 1/26  |  10 AM |  Do background research on topic | Discuss ideal dataset(s) and ethics; draft project proposal | \n",
    "| 2/1  | 10 AM  | Edit, finalize, and submit proposal; Search for datasets  | Discuss Wrangling and possible analytical approaches; Assign group members to lead each specific part   |\n",
    "| 2/14  | 6 PM  | Import & Wrangle Data (Ant Man); EDA (Hulk) | Review/Edit wrangling/EDA; Discuss Analysis Plan   |\n",
    "| 2/23  | 12 PM  | Finalize wrangling/EDA; Begin Analysis (Iron Man; Thor) | Discuss/edit Analysis; Complete project check-in |\n",
    "| 3/13  | 12 PM  | Complete analysis; Draft results/conclusion/discussion (Wasp)| Discuss/edit full project |\n",
    "| 3/20  | Before 11:59 PM  | NA | Turn in Final Project & Group Project Surveys |"
   ]
  }
 ],
 "metadata": {
  "kernelspec": {
   "display_name": "Python 3 (ipykernel)",
   "language": "python",
   "name": "python3"
  },
  "language_info": {
   "codemirror_mode": {
    "name": "ipython",
    "version": 3
   },
   "file_extension": ".py",
   "mimetype": "text/x-python",
   "name": "python",
   "nbconvert_exporter": "python",
   "pygments_lexer": "ipython3",
   "version": "3.9.7"
  }
 },
 "nbformat": 4,
 "nbformat_minor": 2
}
