{
 "cells": [
  {
   "cell_type": "markdown",
   "metadata": {},
   "source": [
    "**If you lost points on the last checkpoint you can get them back by responding to TA/IA feedback**  \n",
    "\n",
    "Update/change the relevant sections where you lost those points, make sure you respond on GitHub Issues to your TA/IA to call their attention to the changes you made here.\n",
    "\n",
    "Please update your Timeline... no battle plan survives contact with the enemy, so make sure we understand how your plans have changed."
   ]
  },
  {
   "cell_type": "markdown",
   "metadata": {},
   "source": [
    "# COGS 108 - Data Checkpoint"
   ]
  },
  {
   "cell_type": "markdown",
   "metadata": {},
   "source": [
    "# Names\n",
    "\n",
    "- Chloe Kwan\n",
    "- Anik Alam\n",
    "- Anusha Rao\n",
    "- Sophie Phung\n",
    "- Patric Sanchez"
   ]
  },
  {
   "cell_type": "markdown",
   "metadata": {},
   "source": [
    "# Research Question"
   ]
  },
  {
   "cell_type": "markdown",
   "metadata": {},
   "source": [
    "Our research question is: What is the economic impact of Taylor Swift’s Eras Tour stops in North America between March 2023 to August 2023 on the local economics of different cities? How do factors (such as venue size, average ticket price, concert attendance, etc.) impact inflation in sectors such as retail, hospitality, and the restaurant industry?"
   ]
  },
  {
   "cell_type": "markdown",
   "metadata": {},
   "source": [
    "## Background and Prior Work"
   ]
  },
  {
   "cell_type": "markdown",
   "metadata": {},
   "source": [
    "\n",
    "In 2023, singer Taylor Swift embarked on a tour of her greatest hit songs, aptly titled “The Eras Tour”. The tour spanned 53 stops throughout the United States, beginning in March and ending in August. Swift then continued touring in Latin America, Asia, and Australia into 2024, with plans to continue touring Europe and the remaining North American stops till the end of 2024.\n",
    "\n",
    "Swift has been praised for helping boost the tourism industry at the various cities she visited on her United States tour. As fans flocked to city centers to witness her performance, they expended savings accumulated during the COVID-19 pandemic on tourism and hospitality prior to the big event. In what is dubbed as “Swiftonomics<a name=\"cite_ref-1\"></a>[<sup>1</sup>](#cite_note-1),” the economic implications of the Eras Tour fascinated economists as they gathered data to understand these statistics. States reported receiving millions towards their economies, with metropolitans, such as Los Angeles, also seeing an increase in thousands of jobs to meet the demand. However, with the increased willingness to spend on tourism, there was also record inflation in certain sectors, as the prices of transportation and lodging shot up, with dwindling supply attempting to match significant demand.\n",
    "\n",
    "Previous studies that have been done on this topic primarily consist of new articles which report increases in spending when Swift visits these cities. For example, this study<a name=\"cite_ref-2\"></a>[<sup>2</sup>](#cite_note-2) states that the Eras Tour added 5 billion dollars to the economy. Other research works<a name=\"cite_ref-3\"></a>[<sup>3</sup>](#cite_note-3) examine the use of the words “Taylor Swift” as a marketing tool, whether or not the singer even stops in the city. For example, in San Diego, a sushi restaurant hosted a Swift-themed night the same week the singer was in Los Angeles, and immediately sold out. According to another study<a name=\"cite_ref-4\"></a>[<sup>4</sup>](#cite_note-4), of the 53 stops in 20 cities, the average fan spent nearly $1300 on travel, hotel stays, food, and merchandise. In Pittsburgh, average room rates saw a 106% increase, with 83% of guests coming from outside the host county. We have not seen a comprehensive city-by-city analysis, and are curious as to which cities saw the greatest boosts in revenue, which sectors are most crucial to economic success, and if ticket pricing and number sold come into contention. With such a variety in demographics and areas visited, our group is interested in analyzing which areas saw the greatest growth in revenue, and where inflation hurt consumers the most.\n",
    "1. <a name=\"https://www.investopedia.com/swiftonomics-definition-8601178\"></a> [^](#cite_ref-1) Mitra, M. (8 Mar 2024) Swiftonomics: The Economic Influence of Taylor Swift. *Investopedia*. https://www.investopedia.com/swiftonomics-definition-8601178 \n",
    "2. <a name=\"https://www.cbsnews.com/news/taylor-swift-eras-tour-boosted-economy-tourism-federal-reserve-how-much-money-made/\"></a> [^](#cite_ref-2) O'Kane, C. (18 Jul 2023) The Federal Reserve says Taylor Swift's Eras Tour boosted the economy. One market research firm estimates she could add $5 billion *CBS New*. https://www.cbsnews.com/news/taylor-swift-eras-tour-boosted-economy-tourism-federal-reserve-how-much-money-made/\n",
    "3. <a name=\"https://www.cnbc.com/2024/03/01/the-taylor-swift-economic-effect-has-reached-every-town-in-america.html\"></a> [^](#cite_ref-3) Williams, K. (1 Mar 2024) The Taylor Swift economy has reached every town in America, from small business moms to skating rinks and sushi bars. *CNBC*. https://www.cnbc.com/2024/03/01/the-taylor-swift-economic-effect-has-reached-every-town-in-america.html \n",
    "4. <a name=\"https://www.ustravel.org/news/taylor-swift-impact-5-months-and-5-billion\"></a> [^](#cite_ref-4) (19 Sept 2023) The Taylor Swift Impact – 5 Months and $5+ Billion. *U.S. Travel Association*. https://www.ustravel.org/news/taylor-swift-impact-5-months-and-5-billion \n"
   ]
  },
  {
   "cell_type": "markdown",
   "metadata": {},
   "source": [
    "# Hypothesis\n"
   ]
  },
  {
   "cell_type": "markdown",
   "metadata": {},
   "source": [
    "\n",
    "- We hypothesize that North American stops on Taylor Swift’s “The Eras Tour” will cause local economies to see a sharp spike in prices due to inflation, particularly within hotels, transportation, food, and other hospitality-based sectors.\n",
    "- Due to Taylor Swift’s popularity, cultural impact, and massive fanbase, we expect that businesses in the hospitality sector in cities on the tour route will increase their pricing for services/accommodations accordingly in order to maximize profits, given that a large influx of tourists will naturally increase the demand and congestion of services.\n"
   ]
  },
  {
   "cell_type": "markdown",
   "metadata": {},
   "source": [
    "# Data"
   ]
  },
  {
   "cell_type": "markdown",
   "metadata": {},
   "source": [
    "## Data overview\n",
    "\n",
    "For each dataset include the following information\n",
    "- Dataset #1\n",
    "  - Dataset Name: Eras Tour Dataset\n",
    "  - Link to the dataset: [https://docs.google.com/spreadsheets/d/1ZScdvaeIbX-Q8OfbtvAlR-XHEtl-dgJ3EHmB5yltKUg/edit#gid=0](https://docs.google.com/spreadsheets/d/1ZScdvaeIbX-Q8OfbtvAlR-XHEtl-dgJ3EHmB5yltKUg/edit#gid=0)\n",
    "  - Number of observations: 53\n",
    "  - Number of variables: 14\n",
    "- Dataset #2 \n",
    "  - Dataset Name: TBD\n",
    "  - Link to the dataset:\n",
    "  - Number of observations: \n",
    "  - Number of variables: \n",
    "\n",
    "### Description of Datasets:\n",
    "Due to the nature of our focus for this project, we chose these datasets to see if we can locate and define any changes in transportation around the dates of a Taylor Swift Concert. In particular, the key variables that we will be observing closely is the date, city, and gross revenue. The Taylor Swift Concert dataset proves us detailed information about many of her concerts, yet we are only interested in a particular subset of these. The metrics include the number of attendees and revenue in dollars, which can serve as proxies for the economic impact of the concerts. Data types includes dates, categorical variables, and numerical variables. To clean this data, all that needs to be done is select which data points that we are interested in studying. Rather than the entire dataset, we are only interested in the Reputation Stadium Tour within this dataset.\n",
    "\n",
    "The U.S. Airline traffic data provides us a foundation to build upon. It includes important variables such as the year, month, number of passengers, domestic vs. international, and load factor. The number of passengers and flights can help serve as proxies for transportation demand, and important aspect of our project. Data types are a mix of categorical variables, dates and numberical values. Preprocessing steps include dealing with any possible missing values and merging with other datasets as needed. Also, we would like to create seperate instances of dataframes to keep track of different parts of the dates, including before, during and after the eras tour. This will help with our explatory data analysis.\n",
    "\n",
    "Additionally, our own Eras Tour Dataset gives us specific information regarding the tour of interest: The Eras Tour. The most important variable that we will be observing is the location and average prices. These averages prices will be extremely indicative as to whether there truly exists an impact that Taylor Swift's concerts have on the local economy. Cleaning this dataset involve ensuring date formates are consistent across all datasets and aligning economic indicators for accurate before-and-after comparisons.  \n",
    "\n",
    "We plan to combine thes datasets in some manner by aligning the dates and locations of the Taylor Swift's concerts from both relevant datasets with the airline traffic data. It is obvious that there are some clear overlaps between our chosen datasets. This will help us observe changes in transportation patterns and economic indicators around concert dates. We plan to incorporate these dataests, such as a unified dataset, that include these economic indicators such as airline traffic and average hospitality prices *before* and *after* the concerts. Two of the datasets are stored on the Kaggle database, while the other is one we have created ourselves in Google Sheets. Since there are 53 stops on the tour, we would like at least 53 observations, but ideally would prefer to have more to validate our hypothesis with multiple variables."
   ]
  },
  {
   "cell_type": "markdown",
   "metadata": {},
   "source": [
    "## Eras Tour Dataset\n",
    "\n",
    "#### Description\n",
    "- This dataset lists data pertaining to all of the concerts Taylor Swift held throughout the Eras Tour, from March 17, 2023 to August 9, 2023.\n",
    "\n",
    "#### Variables\n",
    "- **Stop Number:** The stop number a concert was in relation to the tour.\n",
    "- **Date:** The date that a concert was held.\n",
    "- **Day of the Week:** The day of the week that the concert was held.\n",
    "- **City:** The city where the concert took place.\n",
    "- **State:** The state where the concert took place.\n",
    "- **Venue Name:** The name of the venue where the concert took place.\n",
    "- **Average Ticket Price:** The average price of a ticket for a concert, in dollars.\n",
    "- **Concert Attendance:** The total number of people in attendance for this concert.\n",
    "- **Avg. Hospitality Price Pre-Swift:** The average cost of hospitality, before a Taylor Swift concert.\n",
    "- **Avg. Hospitality Price Post-Swift:** The average cost of hospitality, after a Taylor Swift concert.\n",
    "- **Average Leisure & Hospitality Gains (in thousands):** \n",
    "- **Average Inflation noted in CPI(%):** \n",
    "- **Food Away From Home Percent Increase(%):**"
   ]
  },
  {
   "cell_type": "code",
   "execution_count": 38,
   "metadata": {},
   "outputs": [
    {
     "data": {
      "text/html": [
       "<div>\n",
       "<style scoped>\n",
       "    .dataframe tbody tr th:only-of-type {\n",
       "        vertical-align: middle;\n",
       "    }\n",
       "\n",
       "    .dataframe tbody tr th {\n",
       "        vertical-align: top;\n",
       "    }\n",
       "\n",
       "    .dataframe thead th {\n",
       "        text-align: right;\n",
       "    }\n",
       "</style>\n",
       "<table border=\"1\" class=\"dataframe\">\n",
       "  <thead>\n",
       "    <tr style=\"text-align: right;\">\n",
       "      <th></th>\n",
       "      <th>Stop Number</th>\n",
       "      <th>Date</th>\n",
       "      <th>Day of Week</th>\n",
       "      <th>City</th>\n",
       "      <th>State</th>\n",
       "      <th>Venue Name</th>\n",
       "      <th>Venue Size</th>\n",
       "      <th>Average Ticket Price</th>\n",
       "      <th>Concert Attendance</th>\n",
       "      <th>Avg. Hospitality Price Pre-Swift</th>\n",
       "      <th>Avg. Hospitality Price Post-Swift</th>\n",
       "      <th>Average Leisure &amp; Hospitality Gains (in thousands)</th>\n",
       "      <th>Average Inflation noted in CPI(%)</th>\n",
       "      <th>Food Away From Home Percent Increase(%)</th>\n",
       "    </tr>\n",
       "  </thead>\n",
       "  <tbody>\n",
       "    <tr>\n",
       "      <th>0</th>\n",
       "      <td>1</td>\n",
       "      <td>March 17, 2023</td>\n",
       "      <td>Friday</td>\n",
       "      <td>Glendale</td>\n",
       "      <td>Arizona</td>\n",
       "      <td>State Farm Stadium</td>\n",
       "      <td>78,600</td>\n",
       "      <td>250</td>\n",
       "      <td>69,000</td>\n",
       "      <td>142</td>\n",
       "      <td>639</td>\n",
       "      <td>2.8</td>\n",
       "      <td>1.527800</td>\n",
       "      <td>0.563925</td>\n",
       "    </tr>\n",
       "    <tr>\n",
       "      <th>1</th>\n",
       "      <td>2</td>\n",
       "      <td>March 18, 2023</td>\n",
       "      <td>Saturday</td>\n",
       "      <td>Glendale</td>\n",
       "      <td>Arizona</td>\n",
       "      <td>State Farm Stadium</td>\n",
       "      <td>78,600</td>\n",
       "      <td>250</td>\n",
       "      <td>77000</td>\n",
       "      <td>142</td>\n",
       "      <td>639</td>\n",
       "      <td>2.8</td>\n",
       "      <td>1.527800</td>\n",
       "      <td>0.563925</td>\n",
       "    </tr>\n",
       "    <tr>\n",
       "      <th>2</th>\n",
       "      <td>3</td>\n",
       "      <td>March 24, 2023</td>\n",
       "      <td>Friday</td>\n",
       "      <td>Paradise</td>\n",
       "      <td>Nevada</td>\n",
       "      <td>Allegiant Stadium</td>\n",
       "      <td>71,835</td>\n",
       "      <td>200</td>\n",
       "      <td>40000</td>\n",
       "      <td>83</td>\n",
       "      <td>182</td>\n",
       "      <td>4.1</td>\n",
       "      <td>0.600000</td>\n",
       "      <td>0.563925</td>\n",
       "    </tr>\n",
       "    <tr>\n",
       "      <th>3</th>\n",
       "      <td>4</td>\n",
       "      <td>March 25, 2023</td>\n",
       "      <td>Saturday</td>\n",
       "      <td>Paradise</td>\n",
       "      <td>Nevada</td>\n",
       "      <td>Allegiant Stadium</td>\n",
       "      <td>71,835</td>\n",
       "      <td>200</td>\n",
       "      <td>40000</td>\n",
       "      <td>83</td>\n",
       "      <td>182</td>\n",
       "      <td>4.1</td>\n",
       "      <td>0.600000</td>\n",
       "      <td>0.563925</td>\n",
       "    </tr>\n",
       "    <tr>\n",
       "      <th>4</th>\n",
       "      <td>5</td>\n",
       "      <td>March 31, 2023</td>\n",
       "      <td>Friday</td>\n",
       "      <td>Arlington</td>\n",
       "      <td>Texas</td>\n",
       "      <td>AT&amp;T Stadium</td>\n",
       "      <td>100,000</td>\n",
       "      <td>300</td>\n",
       "      <td>70202</td>\n",
       "      <td>126</td>\n",
       "      <td>300</td>\n",
       "      <td>3.2</td>\n",
       "      <td>0.797228</td>\n",
       "      <td>6.000000</td>\n",
       "    </tr>\n",
       "  </tbody>\n",
       "</table>\n",
       "</div>"
      ],
      "text/plain": [
       "   Stop Number            Date Day of Week       City    State  \\\n",
       "0            1  March 17, 2023      Friday   Glendale  Arizona   \n",
       "1            2  March 18, 2023    Saturday   Glendale  Arizona   \n",
       "2            3  March 24, 2023      Friday   Paradise   Nevada   \n",
       "3            4  March 25, 2023    Saturday   Paradise   Nevada   \n",
       "4            5  March 31, 2023      Friday  Arlington    Texas   \n",
       "\n",
       "           Venue Name Venue Size  Average Ticket Price Concert Attendance  \\\n",
       "0  State Farm Stadium     78,600                   250             69,000   \n",
       "1  State Farm Stadium     78,600                   250              77000   \n",
       "2   Allegiant Stadium     71,835                   200              40000   \n",
       "3   Allegiant Stadium     71,835                   200              40000   \n",
       "4        AT&T Stadium    100,000                   300              70202   \n",
       "\n",
       "   Avg. Hospitality Price Pre-Swift  Avg. Hospitality Price Post-Swift  \\\n",
       "0                               142                                639   \n",
       "1                               142                                639   \n",
       "2                                83                                182   \n",
       "3                                83                                182   \n",
       "4                               126                                300   \n",
       "\n",
       "   Average Leisure & Hospitality Gains (in thousands)  \\\n",
       "0                                                2.8    \n",
       "1                                                2.8    \n",
       "2                                                4.1    \n",
       "3                                                4.1    \n",
       "4                                                3.2    \n",
       "\n",
       "   Average Inflation noted in CPI(%)  Food Away From Home Percent Increase(%)  \n",
       "0                           1.527800                                 0.563925  \n",
       "1                           1.527800                                 0.563925  \n",
       "2                           0.600000                                 0.563925  \n",
       "3                           0.600000                                 0.563925  \n",
       "4                           0.797228                                 6.000000  "
      ]
     },
     "execution_count": 38,
     "metadata": {},
     "output_type": "execute_result"
    }
   ],
   "source": [
    "# Read  dataframe and include proper columns\n",
    "eras_df = pd.read_csv('eras_tour_dataset.csv')\n",
    "\n",
    "# View how the dataset looks like\n",
    "eras_df.head()"
   ]
  },
  {
   "cell_type": "code",
   "execution_count": 8,
   "metadata": {},
   "outputs": [
    {
     "data": {
      "text/html": [
       "<div>\n",
       "<style scoped>\n",
       "    .dataframe tbody tr th:only-of-type {\n",
       "        vertical-align: middle;\n",
       "    }\n",
       "\n",
       "    .dataframe tbody tr th {\n",
       "        vertical-align: top;\n",
       "    }\n",
       "\n",
       "    .dataframe thead th {\n",
       "        text-align: right;\n",
       "    }\n",
       "</style>\n",
       "<table border=\"1\" class=\"dataframe\">\n",
       "  <thead>\n",
       "    <tr style=\"text-align: right;\">\n",
       "      <th></th>\n",
       "      <th>Stop No.</th>\n",
       "      <th>Date</th>\n",
       "      <th>Day</th>\n",
       "      <th>City</th>\n",
       "      <th>State</th>\n",
       "      <th>Venue</th>\n",
       "      <th>Capacity</th>\n",
       "      <th>Avg. Ticket Price</th>\n",
       "      <th>Attendance</th>\n",
       "      <th>Pre-Swift Hosp. Price</th>\n",
       "      <th>Post-Swift Hosp. Price</th>\n",
       "      <th>Avg. Hosp. Gains (000s)</th>\n",
       "      <th>Avg. Inflation CPI (%)</th>\n",
       "      <th>Food Away Home Inc. (%)</th>\n",
       "    </tr>\n",
       "  </thead>\n",
       "  <tbody>\n",
       "    <tr>\n",
       "      <th>0</th>\n",
       "      <td>1</td>\n",
       "      <td>March 17, 2023</td>\n",
       "      <td>Friday</td>\n",
       "      <td>Glendale</td>\n",
       "      <td>Arizona</td>\n",
       "      <td>State Farm Stadium</td>\n",
       "      <td>78,600</td>\n",
       "      <td>250</td>\n",
       "      <td>69,000</td>\n",
       "      <td>142</td>\n",
       "      <td>639</td>\n",
       "      <td>2.8</td>\n",
       "      <td>1.527800</td>\n",
       "      <td>0.563925</td>\n",
       "    </tr>\n",
       "    <tr>\n",
       "      <th>1</th>\n",
       "      <td>2</td>\n",
       "      <td>March 18, 2023</td>\n",
       "      <td>Saturday</td>\n",
       "      <td>Glendale</td>\n",
       "      <td>Arizona</td>\n",
       "      <td>State Farm Stadium</td>\n",
       "      <td>78,600</td>\n",
       "      <td>250</td>\n",
       "      <td>77000</td>\n",
       "      <td>142</td>\n",
       "      <td>639</td>\n",
       "      <td>2.8</td>\n",
       "      <td>1.527800</td>\n",
       "      <td>0.563925</td>\n",
       "    </tr>\n",
       "    <tr>\n",
       "      <th>2</th>\n",
       "      <td>3</td>\n",
       "      <td>March 24, 2023</td>\n",
       "      <td>Friday</td>\n",
       "      <td>Paradise</td>\n",
       "      <td>Nevada</td>\n",
       "      <td>Allegiant Stadium</td>\n",
       "      <td>71,835</td>\n",
       "      <td>200</td>\n",
       "      <td>40000</td>\n",
       "      <td>83</td>\n",
       "      <td>182</td>\n",
       "      <td>4.1</td>\n",
       "      <td>0.600000</td>\n",
       "      <td>0.563925</td>\n",
       "    </tr>\n",
       "    <tr>\n",
       "      <th>3</th>\n",
       "      <td>4</td>\n",
       "      <td>March 25, 2023</td>\n",
       "      <td>Saturday</td>\n",
       "      <td>Paradise</td>\n",
       "      <td>Nevada</td>\n",
       "      <td>Allegiant Stadium</td>\n",
       "      <td>71,835</td>\n",
       "      <td>200</td>\n",
       "      <td>40000</td>\n",
       "      <td>83</td>\n",
       "      <td>182</td>\n",
       "      <td>4.1</td>\n",
       "      <td>0.600000</td>\n",
       "      <td>0.563925</td>\n",
       "    </tr>\n",
       "    <tr>\n",
       "      <th>4</th>\n",
       "      <td>5</td>\n",
       "      <td>March 31, 2023</td>\n",
       "      <td>Friday</td>\n",
       "      <td>Arlington</td>\n",
       "      <td>Texas</td>\n",
       "      <td>AT&amp;T Stadium</td>\n",
       "      <td>100,000</td>\n",
       "      <td>300</td>\n",
       "      <td>70202</td>\n",
       "      <td>126</td>\n",
       "      <td>300</td>\n",
       "      <td>3.2</td>\n",
       "      <td>0.797228</td>\n",
       "      <td>6.000000</td>\n",
       "    </tr>\n",
       "  </tbody>\n",
       "</table>\n",
       "</div>"
      ],
      "text/plain": [
       "   Stop No.            Date       Day       City    State               Venue  \\\n",
       "0         1  March 17, 2023    Friday   Glendale  Arizona  State Farm Stadium   \n",
       "1         2  March 18, 2023  Saturday   Glendale  Arizona  State Farm Stadium   \n",
       "2         3  March 24, 2023    Friday   Paradise   Nevada   Allegiant Stadium   \n",
       "3         4  March 25, 2023  Saturday   Paradise   Nevada   Allegiant Stadium   \n",
       "4         5  March 31, 2023    Friday  Arlington    Texas        AT&T Stadium   \n",
       "\n",
       "  Capacity  Avg. Ticket Price Attendance  Pre-Swift Hosp. Price  \\\n",
       "0   78,600                250     69,000                    142   \n",
       "1   78,600                250      77000                    142   \n",
       "2   71,835                200      40000                     83   \n",
       "3   71,835                200      40000                     83   \n",
       "4  100,000                300      70202                    126   \n",
       "\n",
       "   Post-Swift Hosp. Price  Avg. Hosp. Gains (000s)  Avg. Inflation CPI (%)  \\\n",
       "0                     639                      2.8                1.527800   \n",
       "1                     639                      2.8                1.527800   \n",
       "2                     182                      4.1                0.600000   \n",
       "3                     182                      4.1                0.600000   \n",
       "4                     300                      3.2                0.797228   \n",
       "\n",
       "   Food Away Home Inc. (%)  \n",
       "0                 0.563925  \n",
       "1                 0.563925  \n",
       "2                 0.563925  \n",
       "3                 0.563925  \n",
       "4                 6.000000  "
      ]
     },
     "execution_count": 8,
     "metadata": {},
     "output_type": "execute_result"
    }
   ],
   "source": [
    "# Rename columns for conciseness\n",
    "\n",
    "eras_df.rename(columns={\n",
    "    'Stop Number': 'Stop No.',\n",
    "    'Date': 'Date',\n",
    "    'Day of Week': 'Day',\n",
    "    'City': 'City',\n",
    "    'State': 'State',\n",
    "    'Venue Name': 'Venue',\n",
    "    'Venue Size': 'Capacity',\n",
    "    'Average Ticket Price': 'Avg. Ticket Price',\n",
    "    'Concert Attendance': 'Attendance',\n",
    "    'Avg. Hospitality Price Pre-Swift': 'Pre-Swift Hosp. Price',\n",
    "    'Avg. Hospitality Price Post-Swift': 'Post-Swift Hosp. Price',\n",
    "    'Average Leisure & Hospitality Gains (in thousands)': 'Avg. Hosp. Gains (000s)',\n",
    "    'Average Inflation noted in CPI(%)': 'Avg. Inflation CPI (%)',\n",
    "    'Food Away From Home Percent Increase(%)': 'Food Away Home Inc. (%)'\n",
    "}, inplace=True)\n",
    "eras_df.head()"
   ]
  },
  {
   "cell_type": "code",
   "execution_count": 14,
   "metadata": {},
   "outputs": [
    {
     "name": "stdout",
     "output_type": "stream",
     "text": [
      "Number of rows with at least one null value: 7\n"
     ]
    }
   ],
   "source": [
    "# Check for any rows with null values\n",
    "\n",
    "rows_with_null = eras_df.isnull().any(axis=1).sum()\n",
    "print('Number of rows with at least one null value: ' + str(rows_with_null))"
   ]
  },
  {
   "cell_type": "code",
   "execution_count": 19,
   "metadata": {},
   "outputs": [
    {
     "data": {
      "text/plain": [
       "Avg. Inflation CPI (%)     7\n",
       "Food Away Home Inc. (%)    4\n",
       "dtype: int64"
      ]
     },
     "execution_count": 19,
     "metadata": {},
     "output_type": "execute_result"
    }
   ],
   "source": [
    "# Since we know that there exists null values in this dataset, we are interested in figuring out what columns they belong to. \n",
    "\n",
    "null_columns = eras_df.isnull().sum()\n",
    "null_columns = null_columns[null_columns > 0]\n",
    "null_columns"
   ]
  },
  {
   "cell_type": "markdown",
   "metadata": {},
   "source": [
    "#### For the purposes of this project and scale of our dataset, we do not have the leisure of simply dropping all rows that have a null entry. As such, the specific entries will simply be ignored, as the row in its entirety is important."
   ]
  },
  {
   "cell_type": "code",
   "execution_count": 23,
   "metadata": {},
   "outputs": [
    {
     "data": {
      "text/plain": [
       "Stop No.                     int64\n",
       "Date                        object\n",
       "Day                         object\n",
       "City                        object\n",
       "State                       object\n",
       "Venue                       object\n",
       "Capacity                    object\n",
       "Avg. Ticket Price            int64\n",
       "Attendance                  object\n",
       "Pre-Swift Hosp. Price        int64\n",
       "Post-Swift Hosp. Price       int64\n",
       "Avg. Hosp. Gains (000s)    float64\n",
       "Avg. Inflation CPI (%)     float64\n",
       "Food Away Home Inc. (%)    float64\n",
       "dtype: object"
      ]
     },
     "execution_count": 23,
     "metadata": {},
     "output_type": "execute_result"
    }
   ],
   "source": [
    "# Check the datatypes of the dataframe to see if normalization of columns are required\n",
    "\n",
    "eras_df.dtypes"
   ]
  },
  {
   "cell_type": "code",
   "execution_count": 25,
   "metadata": {},
   "outputs": [],
   "source": [
    "# Change capacity column to numerical representation\n",
    "\n",
    "def capacity_standardize(str_in):\n",
    "    str_in = str_in.replace(\",\", \"\")\n",
    "    return int(str_in)\n",
    "\n",
    "eras_df['Capacity'] = eras_df['Capacity'].apply(capacity_standardize)"
   ]
  },
  {
   "cell_type": "code",
   "execution_count": 26,
   "metadata": {},
   "outputs": [],
   "source": [
    "# Change attendance column to numerical representation\n",
    "\n",
    "def attendance_standardize(str_in):\n",
    "    if ',' in str_in:\n",
    "        str_in = str_in.replace(',', '')\n",
    "    return int(str_in)\n",
    "\n",
    "eras_df['Attendance'] = eras_df['Attendance'].apply(attendance_standardize)"
   ]
  },
  {
   "cell_type": "code",
   "execution_count": 28,
   "metadata": {},
   "outputs": [
    {
     "data": {
      "text/plain": [
       "Stop No.                     int64\n",
       "Date                        object\n",
       "Day                         object\n",
       "City                        object\n",
       "State                       object\n",
       "Venue                       object\n",
       "Capacity                     int64\n",
       "Avg. Ticket Price            int64\n",
       "Attendance                   int64\n",
       "Pre-Swift Hosp. Price        int64\n",
       "Post-Swift Hosp. Price       int64\n",
       "Avg. Hosp. Gains (000s)    float64\n",
       "Avg. Inflation CPI (%)     float64\n",
       "Food Away Home Inc. (%)    float64\n",
       "dtype: object"
      ]
     },
     "execution_count": 28,
     "metadata": {},
     "output_type": "execute_result"
    }
   ],
   "source": [
    "# Re-check data types to ensure correct standardization \n",
    "\n",
    "eras_df.dtypes"
   ]
  },
  {
   "cell_type": "code",
   "execution_count": 37,
   "metadata": {},
   "outputs": [
    {
     "data": {
      "text/html": [
       "<div>\n",
       "<style scoped>\n",
       "    .dataframe tbody tr th:only-of-type {\n",
       "        vertical-align: middle;\n",
       "    }\n",
       "\n",
       "    .dataframe tbody tr th {\n",
       "        vertical-align: top;\n",
       "    }\n",
       "\n",
       "    .dataframe thead th {\n",
       "        text-align: right;\n",
       "    }\n",
       "</style>\n",
       "<table border=\"1\" class=\"dataframe\">\n",
       "  <thead>\n",
       "    <tr style=\"text-align: right;\">\n",
       "      <th></th>\n",
       "      <th>Stop No.</th>\n",
       "      <th>Date</th>\n",
       "      <th>Day</th>\n",
       "      <th>City</th>\n",
       "      <th>State</th>\n",
       "      <th>Venue</th>\n",
       "      <th>Capacity</th>\n",
       "      <th>Avg. Ticket Price</th>\n",
       "      <th>Attendance</th>\n",
       "      <th>Pre-Swift Hosp. Price</th>\n",
       "      <th>Post-Swift Hosp. Price</th>\n",
       "      <th>Avg. Hosp. Gains (000s)</th>\n",
       "      <th>Avg. Inflation CPI (%)</th>\n",
       "      <th>Food Away Home Inc. (%)</th>\n",
       "    </tr>\n",
       "  </thead>\n",
       "  <tbody>\n",
       "    <tr>\n",
       "      <th>0</th>\n",
       "      <td>1</td>\n",
       "      <td>March 17, 2023</td>\n",
       "      <td>Friday</td>\n",
       "      <td>Glendale</td>\n",
       "      <td>Arizona</td>\n",
       "      <td>State Farm Stadium</td>\n",
       "      <td>78600</td>\n",
       "      <td>250</td>\n",
       "      <td>69000</td>\n",
       "      <td>142</td>\n",
       "      <td>639</td>\n",
       "      <td>2.8</td>\n",
       "      <td>1.527800</td>\n",
       "      <td>0.563925</td>\n",
       "    </tr>\n",
       "    <tr>\n",
       "      <th>1</th>\n",
       "      <td>2</td>\n",
       "      <td>March 18, 2023</td>\n",
       "      <td>Saturday</td>\n",
       "      <td>Glendale</td>\n",
       "      <td>Arizona</td>\n",
       "      <td>State Farm Stadium</td>\n",
       "      <td>78600</td>\n",
       "      <td>250</td>\n",
       "      <td>77000</td>\n",
       "      <td>142</td>\n",
       "      <td>639</td>\n",
       "      <td>2.8</td>\n",
       "      <td>1.527800</td>\n",
       "      <td>0.563925</td>\n",
       "    </tr>\n",
       "    <tr>\n",
       "      <th>2</th>\n",
       "      <td>3</td>\n",
       "      <td>March 24, 2023</td>\n",
       "      <td>Friday</td>\n",
       "      <td>Paradise</td>\n",
       "      <td>Nevada</td>\n",
       "      <td>Allegiant Stadium</td>\n",
       "      <td>71835</td>\n",
       "      <td>200</td>\n",
       "      <td>40000</td>\n",
       "      <td>83</td>\n",
       "      <td>182</td>\n",
       "      <td>4.1</td>\n",
       "      <td>0.600000</td>\n",
       "      <td>0.563925</td>\n",
       "    </tr>\n",
       "    <tr>\n",
       "      <th>3</th>\n",
       "      <td>4</td>\n",
       "      <td>March 25, 2023</td>\n",
       "      <td>Saturday</td>\n",
       "      <td>Paradise</td>\n",
       "      <td>Nevada</td>\n",
       "      <td>Allegiant Stadium</td>\n",
       "      <td>71835</td>\n",
       "      <td>200</td>\n",
       "      <td>40000</td>\n",
       "      <td>83</td>\n",
       "      <td>182</td>\n",
       "      <td>4.1</td>\n",
       "      <td>0.600000</td>\n",
       "      <td>0.563925</td>\n",
       "    </tr>\n",
       "    <tr>\n",
       "      <th>4</th>\n",
       "      <td>5</td>\n",
       "      <td>March 31, 2023</td>\n",
       "      <td>Friday</td>\n",
       "      <td>Arlington</td>\n",
       "      <td>Texas</td>\n",
       "      <td>AT&amp;T Stadium</td>\n",
       "      <td>100000</td>\n",
       "      <td>300</td>\n",
       "      <td>70202</td>\n",
       "      <td>126</td>\n",
       "      <td>300</td>\n",
       "      <td>3.2</td>\n",
       "      <td>0.797228</td>\n",
       "      <td>6.000000</td>\n",
       "    </tr>\n",
       "  </tbody>\n",
       "</table>\n",
       "</div>"
      ],
      "text/plain": [
       "   Stop No.            Date       Day       City    State               Venue  \\\n",
       "0         1  March 17, 2023    Friday   Glendale  Arizona  State Farm Stadium   \n",
       "1         2  March 18, 2023  Saturday   Glendale  Arizona  State Farm Stadium   \n",
       "2         3  March 24, 2023    Friday   Paradise   Nevada   Allegiant Stadium   \n",
       "3         4  March 25, 2023  Saturday   Paradise   Nevada   Allegiant Stadium   \n",
       "4         5  March 31, 2023    Friday  Arlington    Texas        AT&T Stadium   \n",
       "\n",
       "   Capacity  Avg. Ticket Price  Attendance  Pre-Swift Hosp. Price  \\\n",
       "0     78600                250       69000                    142   \n",
       "1     78600                250       77000                    142   \n",
       "2     71835                200       40000                     83   \n",
       "3     71835                200       40000                     83   \n",
       "4    100000                300       70202                    126   \n",
       "\n",
       "   Post-Swift Hosp. Price  Avg. Hosp. Gains (000s)  Avg. Inflation CPI (%)  \\\n",
       "0                     639                      2.8                1.527800   \n",
       "1                     639                      2.8                1.527800   \n",
       "2                     182                      4.1                0.600000   \n",
       "3                     182                      4.1                0.600000   \n",
       "4                     300                      3.2                0.797228   \n",
       "\n",
       "   Food Away Home Inc. (%)  \n",
       "0                 0.563925  \n",
       "1                 0.563925  \n",
       "2                 0.563925  \n",
       "3                 0.563925  \n",
       "4                 6.000000  "
      ]
     },
     "execution_count": 37,
     "metadata": {},
     "output_type": "execute_result"
    }
   ],
   "source": [
    "eras_df.head()"
   ]
  },
  {
   "cell_type": "markdown",
   "metadata": {},
   "source": [
    "# Results\n",
    "\n",
    "## Exploratory Data Analysis\n",
    "\n",
    "Carry out whatever EDA you need to for your project.  Because every project will be different we can't really give you much of a template at this point. But please make sure you describe the what and why in text here as well as providing interpretation of results and context."
   ]
  },
  {
   "cell_type": "markdown",
   "metadata": {},
   "source": [
    "### Section 1 of EDA - please give it a better title than this\n",
    "\n",
    "Some more words and stuff.  Remember notebooks work best if you interleave the code that generates a result with properly annotate figures and text that puts these results into context."
   ]
  },
  {
   "cell_type": "code",
   "execution_count": 31,
   "metadata": {},
   "outputs": [],
   "source": [
    "## YOUR CODE HERE\n",
    "## FEEL FREE TO ADD MULTIPLE CELLS PER SECTION"
   ]
  },
  {
   "cell_type": "markdown",
   "metadata": {},
   "source": [
    "### Section 2 of EDA if you need it  - please give it a better title than this\n",
    "\n",
    "Some more words and stuff.  Remember notebooks work best if you interleave the code that generates a result with properly annotate figures and text that puts these results into context."
   ]
  },
  {
   "cell_type": "code",
   "execution_count": 32,
   "metadata": {},
   "outputs": [],
   "source": [
    "## YOUR CODE HERE\n",
    "## FEEL FREE TO ADD MULTIPLE CELLS PER SECTION"
   ]
  },
  {
   "cell_type": "markdown",
   "metadata": {},
   "source": [
    "# Ethics & Privacy"
   ]
  },
  {
   "cell_type": "markdown",
   "metadata": {},
   "source": [
    "Possible ethical implications include ensuring the informed consent of those whose data may end up being collected, such as their financial or demographic information. However, the datasets we are choosing to utilize contain no personally identifiable information, so there are limited consequences for privacy and confidentiality. There should also be ethical consideration given to the long-term consequences of analyzing and sharing our results to the public, as it may influence others’ public perceptions of Taylor Swift and the Eras Tour, potentially affecting advertising and investment decisions. This may also have ethical implications surrounding the effect on hotels and small businesses/restaurants whose finances we would analyze as part of the local economies of each city, or the disruption to daily lives that local residents face. Thus, we must ensure that the data we collect is accurate and transparent in its collection, so that biases do not lead to inaccurate conclusions that harm the well-being of businesses and communities.\n"
   ]
  },
  {
   "cell_type": "markdown",
   "metadata": {},
   "source": [
    "# Team Expectations "
   ]
  },
  {
   "cell_type": "markdown",
   "metadata": {},
   "source": [
    "\n",
    "* **To respond in a timely manner and communicate work, concerns, and conflicts.**\n",
    "* **To complete work in a timely manner.**\n",
    "* **To contribute the expected amount as communicated with the team.**\n",
    "\n",
    "Though work may be split differently amongst specific portions of the project, overall delegation of tasks are expected to be completed by their outline due dates. Team members are expected to contribute to the following project aspects as outlined in the Team Policies:\n",
    "- “Deciding on the project topic, searching for possible datasets, and honing the data science question.\n",
    "- Writing well-commented and clear code to wrangle, explore, visualize, analyze, and communicate your groups’ findings.\n",
    "- Writing the accompanying text throughout the project to explain each section.\n",
    "- Editing the text and code throughout your project for grammar, misspellings, and clarity.”\n",
    "\n",
    "(Courtesy of the COGS 108 Team Policies) \n",
    "\n",
    "Team members are also expected to attend regular meetings which are scheduled in advance, to work individually/in pairs when needed, and to communicate any discrepancies they may encounter which may include scheduling conflicts, issues involving project, etc.\n",
    "\n",
    "In the case a team member does not cooperate, an email will be sent informing them for the lack of work contributed, requiring them to demonstrate significant improvement within a week in the outlined tasks relay to them. If there are no actions taken, the professor will be notified.\n"
   ]
  },
  {
   "cell_type": "markdown",
   "metadata": {},
   "source": [
    "# Project Timeline Proposal"
   ]
  },
  {
   "cell_type": "markdown",
   "metadata": {},
   "source": [
    "\n",
    "\n",
    "\n",
    "| Meeting Date  | Meeting Time| Completed Before Meeting  | Discuss at Meeting |\n",
    "|---|---|---|---|\n",
    "| 5/10  |  3 PM | Proposal submitted, begin compiling data for the dataset| Discuss possible factors(narrowing or widening the list), discuss possible analytical approaches. Assign and delegate work. | \n",
    "| 5/17  |  3 PM |  Import, Wrangle, & CLean Data. Begin EDA | Review data and cleaning processes. Discuss how to proceed with analytics. Assign work. | \n",
    "| 5/24  |  3 PM  | Finish dataset management, wrangling. Reach a midway point regarding analytics| Discuss analysis work. Continue delegating remaining work. |\n",
    "| 5/31  |  3 PM  | Complete analysis; Brainstorm conclusion remarks.| Discuss results, finish analyses, write-up conclusions.|\n",
    "| 6/7   |  3 PM  | Brainstorm video ideas, write out script.| Film and complete video, ensure it meets all guidelines stated by the syllabus. Complete surveys.|\n",
    "| 6/12  | Before 11:59 PM  | Final project*, video*, team eval survey, post-course survey due | Turn in Final Project & Group Project Surveys |"
   ]
  },
  {
   "cell_type": "markdown",
   "metadata": {},
   "source": []
  }
 ],
 "metadata": {
  "kernelspec": {
   "display_name": "Python 3 (ipykernel)",
   "language": "python",
   "name": "python3"
  },
  "language_info": {
   "codemirror_mode": {
    "name": "ipython",
    "version": 3
   },
   "file_extension": ".py",
   "mimetype": "text/x-python",
   "name": "python",
   "nbconvert_exporter": "python",
   "pygments_lexer": "ipython3",
   "version": "3.11.7"
  }
 },
 "nbformat": 4,
 "nbformat_minor": 2
}
