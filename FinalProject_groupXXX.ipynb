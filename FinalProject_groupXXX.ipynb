{
 "cells": [
  {
   "cell_type": "markdown",
   "metadata": {},
   "source": [
    "# COGS 108 - Group065- Exploring the Impacts of Taylor Swift's Eras Tour on Local Hospitality Services and Inflation",
    "\n",
    "# Permissions\n",
    "\n",
    "Place an `X` in the appropriate bracket below to specify if you would like your group's project to be made available to the public. (Note that student names will be included (but PIDs will be scraped from any groups who include their PIDs).\n",
    "\n",
    "* [ X ] YES - make available\n",
    "* [  ] NO - keep private\n",
    "\n",
    "# Names\n",
    "\n",
    "- Anik Alam\n",
    "- Chloe Kwan\n",
    "- Sophie Phung\n",
    "- Anusha Rao\n",
    "- Patric Sanchez\n",
    "\n",
    "# Abstract\n",
    "\n",
    "Please write one to four paragraphs that describe a very brief overview of why you did this, how you did, and the major findings and conclusions."
   ]
  },
  {
   "cell_type": "markdown",
   "metadata": {},
   "source": [
    "# Research Question"
   ]
  },
  {
   "cell_type": "markdown",
   "metadata": {},
   "source": [
    "Our research question is: What is the economic impact of Taylor Swift’s Eras Tour stops in North America between March 2023 to August 2023 on the local economics of different cities? How do factors (such as venue size, average ticket price, concert attendance, etc.) impact inflation in sectors such as retail, hospitality, and the restaurant industry?"
   ]
  },
  {
   "cell_type": "markdown",
   "metadata": {},
   "source": [
    "## Background and Prior Work"
   ]
  },
  {
   "cell_type": "markdown",
   "metadata": {},
   "source": [
    "\n",
     "In 2023, singer Taylor Swift embarked on a tour of her greatest hit songs, aptly titled “The Eras Tour”. The tour spanned 53 stops throughout the United States, beginning in March and ending in August. Swift then continued touring in Latin America, Asia, and Australia into 2024, with plans to continue touring Europe and the remaining North American stops till the end of 2024.\n",
    "\n",
    "Swift has been praised for helping boost the tourism industry at the various cities she visited on her United States tour. As fans flocked to city centers to witness her performance, they expended savings accumulated during the COVID-19 pandemic on tourism and hospitality prior to the big event. In what is dubbed as “Swiftonomics<a name=\"cite_ref-1\"></a>[<sup>1</sup>](#cite_note-1),” the economic implications of the Eras Tour fascinated economists as they gathered data to understand these statistics. States reported receiving millions towards their economies, with metropolitans, such as Los Angeles, also seeing an increase in thousands of jobs to meet the demand. However, with the increased willingness to spend on tourism, there was also record inflation in certain sectors, as the prices of transportation and lodging shot up, with dwindling supply attempting to match significant demand.\n",
    "\n",
    "Previous studies that have been done on this topic primarily consist of new articles which report increases in spending when Swift visits these cities. For example, this study<a name=\"cite_ref-2\"></a>[<sup>2</sup>](#cite_note-2) states that the Eras Tour added 5 billion dollars to the economy. Other research works<a name=\"cite_ref-3\"></a>[<sup>3</sup>](#cite_note-3) examine the use of the words “Taylor Swift” as a marketing tool, whether or not the singer even stops in the city. For example, in San Diego, a sushi restaurant hosted a Swift-themed night the same week the singer was in Los Angeles, and immediately sold out. According to another study<a name=\"cite_ref-4\"></a>[<sup>4</sup>](#cite_note-4), of the 53 stops in 20 cities, the average fan spent nearly $1300 on travel, hotel stays, food, and merchandise. In Pittsburgh, average room rates saw a 106% increase, with 83% of guests coming from outside the host county. We have not seen a comprehensive city-by-city analysis, and are curious as to which cities saw the greatest boosts in revenue, which sectors are most crucial to economic success, and if ticket pricing and number sold come into contention. With such a variety in demographics and areas visited, our group is interested in analyzing which areas saw the greatest growth in revenue, and where inflation hurt consumers the most.\n",
   
    "1. <a name=\"https://www.investopedia.com/swiftonomics-definition-8601178\"></a> [^](#cite_ref-1) Mitra, M. (8 Mar 2024) Swiftonomics: The Economic Influence of Taylor Swift. *Investopedia*. https://www.investopedia.com/swiftonomics-definition-8601178 \n",
    "2. <a name=\"https://www.cbsnews.com/news/taylor-swift-eras-tour-boosted-economy-tourism-federal-reserve-how-much-money-made/\"></a> [^](#cite_ref-2) O'Kane, C. (18 Jul 2023) The Federal Reserve says Taylor Swift's Eras Tour boosted the economy. One market research firm estimates she could add $5 billion *CBS New*. https://www.cbsnews.com/news/taylor-swift-eras-tour-boosted-economy-tourism-federal-reserve-how-much-money-made/\n",
    "3. <a name=\"https://www.cnbc.com/2024/03/01/the-taylor-swift-economic-effect-has-reached-every-town-in-america.html\"></a> [^](#cite_ref-3) Williams, K. (1 Mar 2024) The Taylor Swift economy has reached every town in America, from small business moms to skating rinks and sushi bars. *CNBC*. https://www.cnbc.com/2024/03/01/the-taylor-swift-economic-effect-has-reached-every-town-in-america.html \n",
    "4. <a name=\"https://www.ustravel.org/news/taylor-swift-impact-5-months-and-5-billion\"></a> [^](#cite_ref-4) (19 Sept 2023) The Taylor Swift Impact – 5 Months and $5+ Billion. *U.S. Travel Association*. https://www.ustravel.org/news/taylor-swift-impact-5-months-and-5-billion \n"
   ]
  },
  {
   "cell_type": "markdown",
   "metadata": {},
   "source": [
    "# Hypothesis\n"
   ]
  },
  {
   "cell_type": "markdown",
   "metadata": {},
   "source": [
    "\n",
    "- We hypothesize that North American stops on Taylor Swift’s “The Eras Tour” will cause local economies to see a sharp spike in prices due to inflation, particularly within hotels, transportation, food, and other hospitality-based sectors.\n",
    "- Due to Taylor Swift’s popularity, cultural impact, and massive fanbase, we expect that businesses in the hospitality sector in cities on the tour route will increase their pricing for services/accommodations accordingly in order to maximize profits, given that a large influx of tourists will naturally increase the demand and congestion of services.\n"
  ]
  },
  {
   "cell_type": "markdown",
   "metadata": {},
   "source": [
    "# Data"
   ]
  },
  {
   "cell_type": "markdown",
   "metadata": {},
   "source": [
    "## Data overview\n",
    "\n",
    "For each dataset include the following information\n",
    "- Dataset #1\n",
    "  - Dataset Name: Eras Tour Dataset\n",
    "  - Link to the dataset: [https://docs.google.com/spreadsheets/d/1ZScdvaeIbX-Q8OfbtvAlR-XHEtl-dgJ3EHmB5yltKUg/edit#gid=0](https://docs.google.com/spreadsheets/d/1ZScdvaeIbX-Q8OfbtvAlR-XHEtl-dgJ3EHmB5yltKUg/edit#gid=0)\n",
    "  - Number of observations: 53\n",
    "  - Number of variables: 14\n",
    "- Dataset #2\n",
    "  - Dataset Name: Reputation Tour Dataset\n",
    "  - Link to the dataset: [https://docs.google.com/spreadsheets/d/1ZScdvaeIbX-Q8OfbtvAlR-XHEtl-dgJ3EHmB5yltKUg/edit#gid=408156481](https://docs.google.com/spreadsheets/d/1ZScdvaeIbX-Q8OfbtvAlR-XHEtl-dgJ3EHmB5yltKUg/edit#gid=408156481)\n",
    "  - Number of observations: 38\n",
    "  - Number of variables: 12\n",
    "\n",
    "### Description of Datasets:\n",
    "Due to the nature of our focus for this project, we chose these datasets to see if we can locate and define any changes in local economy and business prices around the dates of the Taylor Swift concert. In order to complete our analysis, we combined data from various sources to create a new dataset for our specific question. These were compiled using a variety of sources such as the Federal Bureau of Labor statistics for economic variables, hotel hospitality from local newspapers of each respective town, stadium sizes along with tour dates and ticket prices from wikipedia, and more.\n",
    "The metrics include the number of attendees and revenue in dollars, which can serve as proxies for the economic impact of the concerts. Data types include dates, categorical variables, and numerical variables. Additionally, specific components such as food price increases and leisure and hospitality gains in order to determine the inflation noted by the influence of the tour. We also used Consumer Price Index (CPI) to gauge the inflation at the time by comparing the current and previous year’s market basket price for an overall inflation rate. Thus, comparing the hospitality prices before and after the Taylor Swift Eras Tour using the Reputation Tour forms the data set for our analysis.\n",
    "Rows with null entries were kept with the null entry ignored, as each row in its entirety was important and could not be dropped.\n",
    "\n"
   ]
  },
  {
   "cell_type": "markdown",
   "metadata": {},
   "source": [
    "## Dataset #1 (use name instead of number here)"
   ]
  },
  {
   "cell_type": "code",
   "execution_count": null,
   "metadata": {},
   "outputs": [],
   "source": [
    "## YOUR CODE TO LOAD/CLEAN/TIDY/WRANGLE THE DATA GOES HERE\n",
    "## FEEL FREE TO ADD MULTIPLE CELLS PER SECTION "
   ]
  },
  {
   "cell_type": "markdown",
   "metadata": {},
   "source": [
    "## Dataset #2 (if you have more than one, use name instead of number here)"
   ]
  },
  {
   "cell_type": "code",
   "execution_count": null,
   "metadata": {},
   "outputs": [],
   "source": [
    "## YOUR CODE TO LOAD/CLEAN/TIDY/WRANGLE THE DATA GOES HERE\n",
    "## FEEL FREE TO ADD MULTIPLE CELLS PER SECTION "
   ]
  },
  {
   "cell_type": "markdown",
   "metadata": {},
   "source": [
    "# Results\n",
    "\n",
    "## Exploratory Data Analysis\n",
    "\n",
    "Carry out whatever EDA you need to for your project.  Because every project will be different we can't really give you much of a template at this point. But please make sure you describe the what and why in text here as well as providing interpretation of results and context."
   ]
  },
  {
   "cell_type": "markdown",
   "metadata": {},
   "source": [
    "## First Analysis You Did - Give it a better title\n",
    "\n",
    "Some more words and stuff.  Remember notebooks work best if you interleave the code that generates a result with properly annotate figures and text that puts these results into context."
   ]
  },
  {
   "cell_type": "code",
   "execution_count": null,
   "metadata": {},
   "outputs": [],
   "source": [
    "## YOUR CODE HERE\n",
    "## FEEL FREE TO ADD MULTIPLE CELLS PER SECTION"
   ]
  },
  {
   "cell_type": "markdown",
   "metadata": {},
   "source": [
    "## Second Analysis You Did - Give it a better title\n",
    "\n",
    "Some more words and stuff.  Remember notebooks work best if you interleave the code that generates a result with properly annotate figures and text that puts these results into context."
   ]
  },
  {
   "cell_type": "code",
   "execution_count": null,
   "metadata": {},
   "outputs": [],
   "source": [
    "## YOUR CODE HERE\n",
    "## FEEL FREE TO ADD MULTIPLE CELLS PER SECTION"
   ]
  },
  {
   "cell_type": "markdown",
   "metadata": {},
   "source": [
    "## ETC AD NASEUM\n",
    "\n",
    "Some more words and stuff.  Remember notebooks work best if you interleave the code that generates a result with properly annotate figures and text that puts these results into context."
   ]
  },
  {
   "cell_type": "code",
   "execution_count": null,
   "metadata": {},
   "outputs": [],
   "source": [
    "## YOUR CODE HERE\n",
    "## FEEL FREE TO ADD MULTIPLE CELLS PER SECTION"
   ]
  },
  {
   "cell_type": "markdown",
   "metadata": {},
   "source": [
    "# Ethics & Privacy"
   ]
  },
  {
   "cell_type": "markdown",
   "metadata": {},
   "source": [
   "Possible ethical implications include ensuring the informed consent of those whose data may end up being collected, such as their financial or demographic information. However, the datasets we are choosing to utilize contain no personally identifiable information, so there are limited consequences for privacy and confidentiality. There should also be ethical consideration given to the long-term consequences of analyzing and sharing our results to the public, as it may influence others’ public perceptions of Taylor Swift and the Eras Tour, potentially affecting advertising and investment decisions. This may also have ethical implications surrounding the effect on hotels and small businesses/restaurants whose finances we would analyze as part of the local economies of each city, or the disruption to daily lives that local residents face. Thus, we must ensure that the data we collect is accurate and transparent in its collection, so that biases do not lead to inaccurate conclusions that harm the well-being of businesses and communities.\n"
   ]
  },
  {
   "cell_type": "markdown",
   "metadata": {},
   "source": [
    "# Discusison and Conclusion\n",
    "\n",
    "Wrap it all up here.  Somewhere between 3 and 10 paragraphs roughly.  A good time to refer back to your Background section and review how this work extended the previous stuff. \n",
    "\n",
    "\n",
    "# Team Contributions\n",
    "\n",
    "Speficy who did what.  This should be pretty granular, perhaps bullet points, no more than a few sentences per person."
   ]
  }
 ],
 "metadata": {
  "kernelspec": {
   "display_name": "Python 3 (ipykernel)",
   "language": "python",
   "name": "python3"
  },
  "language_info": {
   "codemirror_mode": {
    "name": "ipython",
    "version": 3
   },
   "file_extension": ".py",
   "mimetype": "text/x-python",
   "name": "python",
   "nbconvert_exporter": "python",
   "pygments_lexer": "ipython3",
   "version": "3.9.7"
  }
 },
 "nbformat": 4,
 "nbformat_minor": 2
}
