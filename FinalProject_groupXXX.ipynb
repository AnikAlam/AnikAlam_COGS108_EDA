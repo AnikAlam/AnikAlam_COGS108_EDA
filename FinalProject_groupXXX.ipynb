{
 "cells": [
  {
   "cell_type": "markdown",
   "metadata": {},
   "source": [
    "# COGS 108 - Group065- Exploring the Impacts of Taylor Swift's Eras Tour on Local Hospitality Services and Inflation",
    "\n",
    "# Permissions\n",
    "\n",
    "Place an `X` in the appropriate bracket below to specify if you would like your group's project to be made available to the public. (Note that student names will be included (but PIDs will be scraped from any groups who include their PIDs).\n",
    "\n",
    "* [ X ] YES - make available\n",
    "* [  ] NO - keep private\n",
    "\n",
    "# Names\n",
    "\n",
    "- Anik Alam\n",
    "- Chloe Kwan\n",
    "- Sophie Phung\n",
    "- Anusha Rao\n",
    "- Patric Sanchez\n",
    "\n",
    "# Abstract\n",
    "\n",
    "Please write one to four paragraphs that describe a very brief overview of why you did this, how you did, and the major findings and conclusions."
   ]
  },
  {
   "cell_type": "markdown",
   "metadata": {},
   "source": [
    "# Research Question"
   ]
  },
  {
   "cell_type": "markdown",
   "metadata": {},
   "source": [
    "Our research question is: What is the economic impact of Taylor Swift’s Eras Tour stops in North America between March 2023 to August 2023 on the local economics of different cities? How do factors (such as venue size, average ticket price, concert attendance, etc.) impact inflation in sectors such as retail, hospitality, and the restaurant industry?"
   ]
  },
  {
   "cell_type": "markdown",
   "metadata": {},
   "source": [
    "## Background and Prior Work"
   ]
  },
  {
   "cell_type": "markdown",
   "metadata": {},
   "source": [
    "\n",
     "In 2023, singer Taylor Swift embarked on a tour of her greatest hit songs, aptly titled “The Eras Tour”. The tour spanned 53 stops throughout the United States, beginning in March and ending in August. Swift then continued touring in Latin America, Asia, and Australia into 2024, with plans to continue touring Europe and the remaining North American stops till the end of 2024.\n",
    "\n",
    "Swift has been praised for helping boost the tourism industry at the various cities she visited on her United States tour. As fans flocked to city centers to witness her performance, they expended savings accumulated during the COVID-19 pandemic on tourism and hospitality prior to the big event. In what is dubbed as “Swiftonomics<a name=\"cite_ref-1\"></a>[<sup>1</sup>](#cite_note-1),” the economic implications of the Eras Tour fascinated economists as they gathered data to understand these statistics. States reported receiving millions towards their economies, with metropolitans, such as Los Angeles, also seeing an increase in thousands of jobs to meet the demand. However, with the increased willingness to spend on tourism, there was also record inflation in certain sectors, as the prices of transportation and lodging shot up, with dwindling supply attempting to match significant demand.\n",
    "\n",
    "Previous studies that have been done on this topic primarily consist of new articles which report increases in spending when Swift visits these cities. For example, this study<a name=\"cite_ref-2\"></a>[<sup>2</sup>](#cite_note-2) states that the Eras Tour added 5 billion dollars to the economy. Other research works<a name=\"cite_ref-3\"></a>[<sup>3</sup>](#cite_note-3) examine the use of the words “Taylor Swift” as a marketing tool, whether or not the singer even stops in the city. For example, in San Diego, a sushi restaurant hosted a Swift-themed night the same week the singer was in Los Angeles, and immediately sold out. According to another study<a name=\"cite_ref-4\"></a>[<sup>4</sup>](#cite_note-4), of the 53 stops in 20 cities, the average fan spent nearly $1300 on travel, hotel stays, food, and merchandise. In Pittsburgh, average room rates saw a 106% increase, with 83% of guests coming from outside the host county. We have not seen a comprehensive city-by-city analysis, and are curious as to which cities saw the greatest boosts in revenue, which sectors are most crucial to economic success, and if ticket pricing and number sold come into contention. With such a variety in demographics and areas visited, our group is interested in analyzing which areas saw the greatest growth in revenue, and where inflation hurt consumers the most.\n",
   
    "1. <a name=\"https://www.investopedia.com/swiftonomics-definition-8601178\"></a> [^](#cite_ref-1) Mitra, M. (8 Mar 2024) Swiftonomics: The Economic Influence of Taylor Swift. *Investopedia*. https://www.investopedia.com/swiftonomics-definition-8601178 \n",
    "2. <a name=\"https://www.cbsnews.com/news/taylor-swift-eras-tour-boosted-economy-tourism-federal-reserve-how-much-money-made/\"></a> [^](#cite_ref-2) O'Kane, C. (18 Jul 2023) The Federal Reserve says Taylor Swift's Eras Tour boosted the economy. One market research firm estimates she could add $5 billion *CBS New*. https://www.cbsnews.com/news/taylor-swift-eras-tour-boosted-economy-tourism-federal-reserve-how-much-money-made/\n",
    "3. <a name=\"https://www.cnbc.com/2024/03/01/the-taylor-swift-economic-effect-has-reached-every-town-in-america.html\"></a> [^](#cite_ref-3) Williams, K. (1 Mar 2024) The Taylor Swift economy has reached every town in America, from small business moms to skating rinks and sushi bars. *CNBC*. https://www.cnbc.com/2024/03/01/the-taylor-swift-economic-effect-has-reached-every-town-in-america.html \n",
    "4. <a name=\"https://www.ustravel.org/news/taylor-swift-impact-5-months-and-5-billion\"></a> [^](#cite_ref-4) (19 Sept 2023) The Taylor Swift Impact – 5 Months and $5+ Billion. *U.S. Travel Association*. https://www.ustravel.org/news/taylor-swift-impact-5-months-and-5-billion \n"
   ]
  },
  {
   "cell_type": "markdown",
   "metadata": {},
   "source": [
    "# Hypothesis\n"
   ]
  },
  {
   "cell_type": "markdown",
   "metadata": {},
   "source": [
    "\n",
    "- We hypothesize that North American stops on Taylor Swift’s “The Eras Tour” will cause local economies to see a sharp spike in prices due to inflation, particularly within hotels, transportation, food, and other hospitality-based sectors.\n",
    "- Due to Taylor Swift’s popularity, cultural impact, and massive fanbase, we expect that businesses in the hospitality sector in cities on the tour route will increase their pricing for services/accommodations accordingly in order to maximize profits, given that a large influx of tourists will naturally increase the demand and congestion of services.\n"
  ]
  },
  {
   "cell_type": "markdown",
   "metadata": {},
   "source": [
    "# Data"
   ]
  },
  {
   "cell_type": "markdown",
   "metadata": {},
   "source": [
    "## Data overview\n",
    "\n",
    "For each dataset include the following information\n",
    "- Dataset #1\n",
    "  - Dataset Name: Eras Tour Dataset\n",
    "  - Link to the dataset: [https://docs.google.com/spreadsheets/d/1ZScdvaeIbX-Q8OfbtvAlR-XHEtl-dgJ3EHmB5yltKUg/edit#gid=0](https://docs.google.com/spreadsheets/d/1ZScdvaeIbX-Q8OfbtvAlR-XHEtl-dgJ3EHmB5yltKUg/edit#gid=0)\n",
    "  - Number of observations: 53\n",
    "  - Number of variables: 14\n",
    "- Dataset #2\n",
    "  - Dataset Name: Reputation Tour Dataset\n",
    "  - Link to the dataset: [https://docs.google.com/spreadsheets/d/1ZScdvaeIbX-Q8OfbtvAlR-XHEtl-dgJ3EHmB5yltKUg/edit#gid=408156481](https://docs.google.com/spreadsheets/d/1ZScdvaeIbX-Q8OfbtvAlR-XHEtl-dgJ3EHmB5yltKUg/edit#gid=408156481)\n",
    "  - Number of observations: 38\n",
    "  - Number of variables: 12\n",
    "\n",
    "### Description of Datasets:\n",
    "Due to the nature of our focus for this project, we chose these datasets to see if we can locate and define any changes in local economy and business prices around the dates of the Taylor Swift concert. In order to complete our analysis, we combined data from various sources to create a new dataset for our specific question. These were compiled using a variety of sources such as the Federal Bureau of Labor statistics for economic variables, hotel hospitality from local newspapers of each respective town, stadium sizes along with tour dates and ticket prices from wikipedia, and more.\n",
    "The metrics include the number of attendees and revenue in dollars, which can serve as proxies for the economic impact of the concerts. Data types include dates, categorical variables, and numerical variables. Additionally, specific components such as food price increases and leisure and hospitality gains in order to determine the inflation noted by the influence of the tour. We also used Consumer Price Index (CPI) to gauge the inflation at the time by comparing the current and previous year’s market basket price for an overall inflation rate. Thus, comparing the hospitality prices before and after the Taylor Swift Eras Tour using the Reputation Tour forms the data set for our analysis.\n",
    "Rows with null entries were kept with the null entry ignored, as each row in its entirety was important and could not be dropped.\n",
    "\n"
   ]
  },
  {
   "cell_type": "markdown",
   "metadata": {},
   "source": [
    "## Eras Tour Dataset\n",
    "\n",
    "#### Description\n",
    "- This dataset lists data pertaining to all of the concerts Taylor Swift held throughout the Eras Tour, from March 17, 2023 to August 9, 2023.\n",
    "\n",
    "#### Variables\n",
    "- **Stop Number:** The stop number a concert was in relation to the tour.\n",
    "- **Date:** The date that a concert was held.\n",
    "- **Day of the Week:** The day of the week that the concert was held.\n",
    "- **City:** The city where the concert took place.\n",
    "- **State:** The state where the concert took place.\n",
    "- **Venue Name:** The name of the venue where the concert took place.\n",
    "- **Average Ticket Price:** The average price of a ticket for a concert, in dollars.\n",
    "- **Concert Attendance:** The total number of people in attendance for this concert.\n",
    "- **Avg. Hospitality Price Pre-Swift:** The average cost of hospitality, before a Taylor Swift concert.\n",
    "- **Avg. Hospitality Price Post-Swift:** The average cost of hospitality, after a Taylor Swift concert.\n",
    "- **Average Leisure & Hospitality Gains (in thousands):** The average gains earned by businesses in the leisure and hospitality sector.\n",
    "- **Average Inflation noted in CPI(%):** The average inflation rate as measured by the Consumer Price Index, presented as a percentage.\n",
    "- **Food Away From Home Percent Increase(%):** Percentage increase in the cost of food consued away from home, such as dining out expenses over time."
   ]
  },
  {
   "cell_type": "code",
   "execution_count": null,
   "metadata": {},
   "outputs": [],
   "source": [
    "#Imports to set up our packages\n",
    "import numpy as np\n",
    "import pandas as pd\n",
    "import matplotlib.pyplot as plt\n",
    "import seaborn as sns"
   ]
  },
{
"cell_type": "code",
   "execution_count": 205,
   "metadata": {},
   "outputs": [
    {
     "data": {
      "text/html": [
       "<div>\n",
       "<style scoped>\n",
       "    .dataframe tbody tr th:only-of-type {\n",
       "        vertical-align: middle;\n",
       "    }\n",
       "\n",
       "    .dataframe tbody tr th {\n",
       "        vertical-align: top;\n",
       "    }\n",
       "\n",
       "    .dataframe thead th {\n",
       "        text-align: right;\n",
       "    }\n",
       "</style>\n",
       "<table border=\"1\" class=\"dataframe\">\n",
       "  <thead>\n",
       "    <tr style=\"text-align: right;\">\n",
       "      <th></th>\n",
       "      <th>Stop Number</th>\n",
       "      <th>Date</th>\n",
       "      <th>Day of Week</th>\n",
       "      <th>City</th>\n",
       "      <th>State</th>\n",
       "      <th>Venue Name</th>\n",
       "      <th>Venue Size</th>\n",
       "      <th>Average Ticket Price</th>\n",
       "      <th>Concert Attendance</th>\n",
       "      <th>Avg. Hospitality Price Pre-Swift</th>\n",
       "      <th>Avg. Hospitality Price Post-Swift</th>\n",
       "      <th>Average Leisure &amp; Hospitality Gains (in thousands)</th>\n",
       "      <th>Average Inflation noted in CPI(%)</th>\n",
       "      <th>Food Away From Home Percent Increase(%)</th>\n",
       "    </tr>\n",
       "  </thead>\n",
       "  <tbody>\n",
       "    <tr>\n",
       "      <th>0</th>\n",
       "      <td>1</td>\n",
       "      <td>March 17, 2023</td>\n",
       "      <td>Friday</td>\n",
       "      <td>Glendale</td>\n",
       "      <td>Arizona</td>\n",
       "      <td>State Farm Stadium</td>\n",
       "      <td>78,600</td>\n",
       "      <td>250</td>\n",
       "      <td>69,000</td>\n",
       "      <td>142</td>\n",
       "      <td>639</td>\n",
       "      <td>2.8</td>\n",
       "      <td>1.527800</td>\n",
       "      <td>0.563925</td>\n",
       "    </tr>\n",
       "    <tr>\n",
       "      <th>1</th>\n",
       "      <td>2</td>\n",
       "      <td>March 18, 2023</td>\n",
       "      <td>Saturday</td>\n",
       "      <td>Glendale</td>\n",
       "      <td>Arizona</td>\n",
       "      <td>State Farm Stadium</td>\n",
       "      <td>78,600</td>\n",
       "      <td>250</td>\n",
       "      <td>77000</td>\n",
       "      <td>142</td>\n",
       "      <td>639</td>\n",
       "      <td>2.8</td>\n",
       "      <td>1.527800</td>\n",
       "      <td>0.563925</td>\n",
       "    </tr>\n",
       "    <tr>\n",
       "      <th>2</th>\n",
       "      <td>3</td>\n",
       "      <td>March 24, 2023</td>\n",
       "      <td>Friday</td>\n",
       "      <td>Paradise</td>\n",
       "      <td>Nevada</td>\n",
       "      <td>Allegiant Stadium</td>\n",
       "      <td>71,835</td>\n",
       "      <td>200</td>\n",
       "      <td>40000</td>\n",
       "      <td>83</td>\n",
       "      <td>182</td>\n",
       "      <td>4.1</td>\n",
       "      <td>0.600000</td>\n",
       "      <td>0.563925</td>\n",
       "    </tr>\n",
       "    <tr>\n",
       "      <th>3</th>\n",
       "      <td>4</td>\n",
       "      <td>March 25, 2023</td>\n",
       "      <td>Saturday</td>\n",
       "      <td>Paradise</td>\n",
       "      <td>Nevada</td>\n",
       "      <td>Allegiant Stadium</td>\n",
       "      <td>71,835</td>\n",
       "      <td>200</td>\n",
       "      <td>40000</td>\n",
       "      <td>83</td>\n",
       "      <td>182</td>\n",
       "      <td>4.1</td>\n",
       "      <td>0.600000</td>\n",
       "      <td>0.563925</td>\n",
       "    </tr>\n",
       "    <tr>\n",
       "      <th>4</th>\n",
       "      <td>5</td>\n",
       "      <td>March 31, 2023</td>\n",
       "      <td>Friday</td>\n",
       "      <td>Arlington</td>\n",
       "      <td>Texas</td>\n",
       "      <td>AT&amp;T Stadium</td>\n",
       "      <td>100,000</td>\n",
       "      <td>300</td>\n",
       "      <td>70202</td>\n",
       "      <td>126</td>\n",
       "      <td>300</td>\n",
       "      <td>3.2</td>\n",
       "      <td>0.797228</td>\n",
       "      <td>6.000000</td>\n",
       "    </tr>\n",
       "  </tbody>\n",
       "</table>\n",
       "</div>"
      ],
      "text/plain": [
       "   Stop Number            Date Day of Week       City    State  \\\n",
       "0            1  March 17, 2023      Friday   Glendale  Arizona   \n",
       "1            2  March 18, 2023    Saturday   Glendale  Arizona   \n",
       "2            3  March 24, 2023      Friday   Paradise   Nevada   \n",
       "3            4  March 25, 2023    Saturday   Paradise   Nevada   \n",
       "4            5  March 31, 2023      Friday  Arlington    Texas   \n",
       "\n",
       "           Venue Name Venue Size  Average Ticket Price Concert Attendance  \\\n",
       "0  State Farm Stadium     78,600                   250             69,000   \n",
       "1  State Farm Stadium     78,600                   250              77000   \n",
       "2   Allegiant Stadium     71,835                   200              40000   \n",
       "3   Allegiant Stadium     71,835                   200              40000   \n",
       "4        AT&T Stadium    100,000                   300              70202   \n",
       "\n",
       "   Avg. Hospitality Price Pre-Swift  Avg. Hospitality Price Post-Swift  \\\n",
       "0                               142                                639   \n",
       "1                               142                                639   \n",
       "2                                83                                182   \n",
       "3                                83                                182   \n",
       "4                               126                                300   \n",
       "\n",
       "   Average Leisure & Hospitality Gains (in thousands)  \\\n",
       "0                                                2.8    \n",
       "1                                                2.8    \n",
       "2                                                4.1    \n",
       "3                                                4.1    \n",
       "4                                                3.2    \n",
       "\n",
       "   Average Inflation noted in CPI(%)  Food Away From Home Percent Increase(%)  \n",
       "0                           1.527800                                 0.563925  \n",
       "1                           1.527800                                 0.563925  \n",
       "2                           0.600000                                 0.563925  \n",
       "3                           0.600000                                 0.563925  \n",
       "4                           0.797228                                 6.000000  "
      ]
     },
     "execution_count": 205,
     "metadata": {},
     "output_type": "execute_result"
    }
   ],
   "source": [
    "# Read  dataframe and include proper columns\n",
    "eras_df = pd.read_csv('eras_tour_dataset.csv')\n",
    "\n",
    "# View how the dataset looks like\n",
    "eras_df.head()"
   ]
  },
  {
   "cell_type": "markdown",
   "metadata": {},
   "source": [
    "## Data Cleaning"
   ]
  },
  {
   "cell_type": "code",
   "execution_count": 206,
   "metadata": {},
   "outputs": [
    {
     "data": {
      "text/html": [
       "<div>\n",
       "<style scoped>\n",
       "    .dataframe tbody tr th:only-of-type {\n",
       "        vertical-align: middle;\n",
       "    }\n",
       "\n",
       "    .dataframe tbody tr th {\n",
       "        vertical-align: top;\n",
       "    }\n",
       "\n",
       "    .dataframe thead th {\n",
       "        text-align: right;\n",
       "    }\n",
       "</style>\n",
       "<table border=\"1\" class=\"dataframe\">\n",
       "  <thead>\n",
       "    <tr style=\"text-align: right;\">\n",
       "      <th></th>\n",
       "      <th>Stop No.</th>\n",
       "      <th>Date</th>\n",
       "      <th>Day</th>\n",
       "      <th>City</th>\n",
       "      <th>State</th>\n",
       "      <th>Venue</th>\n",
       "      <th>Capacity</th>\n",
       "      <th>Avg. Ticket Price</th>\n",
       "      <th>Attendance</th>\n",
       "      <th>Pre-Swift Hosp. Price</th>\n",
       "      <th>Post-Swift Hosp. Price</th>\n",
       "      <th>Avg. Hosp. Gains (000s)</th>\n",
       "      <th>Avg. Inflation CPI (%)</th>\n",
       "      <th>Food Away Home Inc. (%)</th>\n",
       "    </tr>\n",
       "  </thead>\n",
       "  <tbody>\n",
       "    <tr>\n",
       "      <th>0</th>\n",
       "      <td>1</td>\n",
       "      <td>March 17, 2023</td>\n",
       "      <td>Friday</td>\n",
       "      <td>Glendale</td>\n",
       "      <td>Arizona</td>\n",
       "      <td>State Farm Stadium</td>\n",
       "      <td>78,600</td>\n",
       "      <td>250</td>\n",
       "      <td>69,000</td>\n",
       "      <td>142</td>\n",
       "      <td>639</td>\n",
       "      <td>2.8</td>\n",
       "      <td>1.527800</td>\n",
       "      <td>0.563925</td>\n",
       "    </tr>\n",
       "    <tr>\n",
       "      <th>1</th>\n",
       "      <td>2</td>\n",
       "      <td>March 18, 2023</td>\n",
       "      <td>Saturday</td>\n",
       "      <td>Glendale</td>\n",
       "      <td>Arizona</td>\n",
       "      <td>State Farm Stadium</td>\n",
       "      <td>78,600</td>\n",
       "      <td>250</td>\n",
       "      <td>77000</td>\n",
       "      <td>142</td>\n",
       "      <td>639</td>\n",
       "      <td>2.8</td>\n",
       "      <td>1.527800</td>\n",
       "      <td>0.563925</td>\n",
       "    </tr>\n",
       "    <tr>\n",
       "      <th>2</th>\n",
       "      <td>3</td>\n",
       "      <td>March 24, 2023</td>\n",
       "      <td>Friday</td>\n",
       "      <td>Paradise</td>\n",
       "      <td>Nevada</td>\n",
       "      <td>Allegiant Stadium</td>\n",
       "      <td>71,835</td>\n",
       "      <td>200</td>\n",
       "      <td>40000</td>\n",
       "      <td>83</td>\n",
       "      <td>182</td>\n",
       "      <td>4.1</td>\n",
       "      <td>0.600000</td>\n",
       "      <td>0.563925</td>\n",
       "    </tr>\n",
       "    <tr>\n",
       "      <th>3</th>\n",
       "      <td>4</td>\n",
       "      <td>March 25, 2023</td>\n",
       "      <td>Saturday</td>\n",
       "      <td>Paradise</td>\n",
       "      <td>Nevada</td>\n",
       "      <td>Allegiant Stadium</td>\n",
       "      <td>71,835</td>\n",
       "      <td>200</td>\n",
       "      <td>40000</td>\n",
       "      <td>83</td>\n",
       "      <td>182</td>\n",
       "      <td>4.1</td>\n",
       "      <td>0.600000</td>\n",
       "      <td>0.563925</td>\n",
       "    </tr>\n",
       "    <tr>\n",
       "      <th>4</th>\n",
       "      <td>5</td>\n",
       "      <td>March 31, 2023</td>\n",
       "      <td>Friday</td>\n",
       "      <td>Arlington</td>\n",
       "      <td>Texas</td>\n",
       "      <td>AT&amp;T Stadium</td>\n",
       "      <td>100,000</td>\n",
       "      <td>300</td>\n",
       "      <td>70202</td>\n",
       "      <td>126</td>\n",
       "      <td>300</td>\n",
       "      <td>3.2</td>\n",
       "      <td>0.797228</td>\n",
       "      <td>6.000000</td>\n",
       "    </tr>\n",
       "  </tbody>\n",
       "</table>\n",
       "</div>"
      ],
      "text/plain": [
       "   Stop No.            Date       Day       City    State               Venue  \\\n",
       "0         1  March 17, 2023    Friday   Glendale  Arizona  State Farm Stadium   \n",
       "1         2  March 18, 2023  Saturday   Glendale  Arizona  State Farm Stadium   \n",
       "2         3  March 24, 2023    Friday   Paradise   Nevada   Allegiant Stadium   \n",
       "3         4  March 25, 2023  Saturday   Paradise   Nevada   Allegiant Stadium   \n",
       "4         5  March 31, 2023    Friday  Arlington    Texas        AT&T Stadium   \n",
       "\n",
       "  Capacity  Avg. Ticket Price Attendance  Pre-Swift Hosp. Price  \\\n",
       "0   78,600                250     69,000                    142   \n",
       "1   78,600                250      77000                    142   \n",
       "2   71,835                200      40000                     83   \n",
       "3   71,835                200      40000                     83   \n",
       "4  100,000                300      70202                    126   \n",
       "\n",
       "   Post-Swift Hosp. Price  Avg. Hosp. Gains (000s)  Avg. Inflation CPI (%)  \\\n",
       "0                     639                      2.8                1.527800   \n",
       "1                     639                      2.8                1.527800   \n",
       "2                     182                      4.1                0.600000   \n",
       "3                     182                      4.1                0.600000   \n",
       "4                     300                      3.2                0.797228   \n",
       "\n",
       "   Food Away Home Inc. (%)  \n",
       "0                 0.563925  \n",
       "1                 0.563925  \n",
       "2                 0.563925  \n",
       "3                 0.563925  \n",
       "4                 6.000000  "
      ]
     },
     "execution_count": 206,
     "metadata": {},
     "output_type": "execute_result"
    }
   ],
   "source": [
    "# Rename columns for conciseness\n",
    "\n",
    "eras_df.rename(columns={\n",
    "    'Stop Number': 'Stop No.',\n",
    "    'Date': 'Date',\n",
    "    'Day of Week': 'Day',\n",
    "    'City': 'City',\n",
    "    'State': 'State',\n",
    "    'Venue Name': 'Venue',\n",
    "    'Venue Size': 'Capacity',\n",
    "    'Average Ticket Price': 'Avg. Ticket Price',\n",
    "    'Concert Attendance': 'Attendance',\n",
    "    'Avg. Hospitality Price Pre-Swift': 'Pre-Swift Hosp. Price',\n",
    "    'Avg. Hospitality Price Post-Swift': 'Post-Swift Hosp. Price',\n",
    "    'Average Leisure & Hospitality Gains (in thousands)': 'Avg. Hosp. Gains (000s)',\n",
    "    'Average Inflation noted in CPI(%)': 'Avg. Inflation CPI (%)',\n",
    "    'Food Away From Home Percent Increase(%)': 'Food Away Home Inc. (%)'\n",
    "}, inplace=True)\n",
    "eras_df.head()"
   ]
  },
  {
   "cell_type": "code",
   "execution_count": 207,
   "metadata": {},
   "outputs": [
    {
     "name": "stdout",
     "output_type": "stream",
     "text": [
      "Number of rows with at least one null value: 7\n"
     ]
    }
   ],
   "source": [
    "# Check for any rows with null values\n",
    "\n",
    "rows_with_null = eras_df.isnull().any(axis=1).sum()\n",
    "print('Number of rows with at least one null value: ' + str(rows_with_null))"
   ]
  },
  {
   "cell_type": "code",
   "execution_count": 208,
   "metadata": {},
   "outputs": [
    {
     "data": {
      "text/plain": [
       "Avg. Inflation CPI (%)     7\n",
       "Food Away Home Inc. (%)    4\n",
       "dtype: int64"
      ]
     },
     "execution_count": 208,
     "metadata": {},
     "output_type": "execute_result"
    }
   ],
   "source": [
    "# Since we know that there exists null values in this dataset, we are interested in figuring out what columns they belong to. \n",
    "\n",
    "null_columns = eras_df.isnull().sum()\n",
    "null_columns = null_columns[null_columns > 0]\n",
    "null_columns"
   ]
  },
  {
   "cell_type": "markdown",
   "metadata": {},
   "source": [
    "#### For the purposes of this project and scale of our dataset, we do not have the leisure of simply dropping all rows that have a null entry. As such, the specific entries will simply be ignored, as the row in its entirety is important."
   ]
  },
  {
   "cell_type": "code",
   "execution_count": 209,
   "metadata": {},
   "outputs": [
    {
     "data": {
      "text/plain": [
       "Stop No.                     int64\n",
       "Date                        object\n",
       "Day                         object\n",
       "City                        object\n",
       "State                       object\n",
       "Venue                       object\n",
       "Capacity                    object\n",
       "Avg. Ticket Price            int64\n",
       "Attendance                  object\n",
       "Pre-Swift Hosp. Price        int64\n",
       "Post-Swift Hosp. Price       int64\n",
       "Avg. Hosp. Gains (000s)    float64\n",
       "Avg. Inflation CPI (%)     float64\n",
       "Food Away Home Inc. (%)    float64\n",
       "dtype: object"
      ]
     },
     "execution_count": 209,
     "metadata": {},
     "output_type": "execute_result"
    }
   ],
   "source": [
    "# Check the datatypes of the dataframe to see if normalization of columns are required\n",
    "\n",
    "eras_df.dtypes"
   ]
  },
  {
   "cell_type": "code",
   "execution_count": 210,
   "metadata": {},
   "outputs": [],
   "source": [
    "# Change capacity column to numerical representation\n",
    "\n",
    "def capacity_standardize(str_in):\n",
    "    str_in = str_in.replace(\",\", \"\")\n",
    "    return int(str_in)\n",
    "\n",
    "eras_df['Capacity'] = eras_df['Capacity'].apply(capacity_standardize)"
   ]
  },
  {
   "cell_type": "code",
   "execution_count": 211,
   "metadata": {},
   "outputs": [],
   "source": [
    "# Change attendance column to numerical representation\n",
    "\n",
    "def attendance_standardize(str_in):\n",
    "    if ',' in str_in:\n",
    "        str_in = str_in.replace(',', '')\n",
    "    return int(str_in)\n",
    "\n",
    "eras_df['Attendance'] = eras_df['Attendance'].apply(attendance_standardize)"
   ]
  },
  {
   "cell_type": "code",
   "execution_count": 212,
   "metadata": {},
   "outputs": [],
   "source": [
    "# Convert date column to DateTime\n",
    "\n",
    "eras_df['Date'] = pd.to_datetime(eras_df['Date'])"
   ]
  },
  {
   "cell_type": "code",
   "execution_count": 213,
   "metadata": {},
   "outputs": [
    {
     "data": {
      "text/plain": [
       "Stop No.                            int64\n",
       "Date                       datetime64[ns]\n",
       "Day                                object\n",
       "City                               object\n",
       "State                              object\n",
       "Venue                              object\n",
       "Capacity                            int64\n",
       "Avg. Ticket Price                   int64\n",
       "Attendance                          int64\n",
       "Pre-Swift Hosp. Price               int64\n",
       "Post-Swift Hosp. Price              int64\n",
       "Avg. Hosp. Gains (000s)           float64\n",
       "Avg. Inflation CPI (%)            float64\n",
       "Food Away Home Inc. (%)           float64\n",
       "dtype: object"
      ]
     },
     "execution_count": 213,
     "metadata": {},
     "output_type": "execute_result"
    }
   ],
   "source": [
    "# Re-check data types to ensure correct standardization \n",
    "\n",
    "eras_df.dtypes"
   ]
  },
  {
   "cell_type": "code",
   "execution_count": 214,
   "metadata": {},
   "outputs": [
    {
     "data": {
      "text/html": [
       "<div>\n",
       "<style scoped>\n",
       "    .dataframe tbody tr th:only-of-type {\n",
       "        vertical-align: middle;\n",
       "    }\n",
       "\n",
       "    .dataframe tbody tr th {\n",
       "        vertical-align: top;\n",
       "    }\n",
       "\n",
       "    .dataframe thead th {\n",
       "        text-align: right;\n",
       "    }\n",
       "</style>\n",
       "<table border=\"1\" class=\"dataframe\">\n",
       "  <thead>\n",
       "    <tr style=\"text-align: right;\">\n",
       "      <th></th>\n",
       "      <th>Stop No.</th>\n",
       "      <th>Date</th>\n",
       "      <th>Day</th>\n",
       "      <th>City</th>\n",
       "      <th>State</th>\n",
       "      <th>Venue</th>\n",
       "      <th>Capacity</th>\n",
       "      <th>Avg. Ticket Price</th>\n",
       "      <th>Attendance</th>\n",
       "      <th>Pre-Swift Hosp. Price</th>\n",
       "      <th>Post-Swift Hosp. Price</th>\n",
       "      <th>Avg. Hosp. Gains (000s)</th>\n",
       "      <th>Avg. Inflation CPI (%)</th>\n",
       "      <th>Food Away Home Inc. (%)</th>\n",
       "    </tr>\n",
       "  </thead>\n",
       "  <tbody>\n",
       "    <tr>\n",
       "      <th>0</th>\n",
       "      <td>1</td>\n",
       "      <td>2023-03-17</td>\n",
       "      <td>Friday</td>\n",
       "      <td>Glendale</td>\n",
       "      <td>Arizona</td>\n",
       "      <td>State Farm Stadium</td>\n",
       "      <td>78600</td>\n",
       "      <td>250</td>\n",
       "      <td>69000</td>\n",
       "      <td>142</td>\n",
       "      <td>639</td>\n",
       "      <td>2.8</td>\n",
       "      <td>1.527800</td>\n",
       "      <td>0.563925</td>\n",
       "    </tr>\n",
       "    <tr>\n",
       "      <th>1</th>\n",
       "      <td>2</td>\n",
       "      <td>2023-03-18</td>\n",
       "      <td>Saturday</td>\n",
       "      <td>Glendale</td>\n",
       "      <td>Arizona</td>\n",
       "      <td>State Farm Stadium</td>\n",
       "      <td>78600</td>\n",
       "      <td>250</td>\n",
       "      <td>77000</td>\n",
       "      <td>142</td>\n",
       "      <td>639</td>\n",
       "      <td>2.8</td>\n",
       "      <td>1.527800</td>\n",
       "      <td>0.563925</td>\n",
       "    </tr>\n",
       "    <tr>\n",
       "      <th>2</th>\n",
       "      <td>3</td>\n",
       "      <td>2023-03-24</td>\n",
       "      <td>Friday</td>\n",
       "      <td>Paradise</td>\n",
       "      <td>Nevada</td>\n",
       "      <td>Allegiant Stadium</td>\n",
       "      <td>71835</td>\n",
       "      <td>200</td>\n",
       "      <td>40000</td>\n",
       "      <td>83</td>\n",
       "      <td>182</td>\n",
       "      <td>4.1</td>\n",
       "      <td>0.600000</td>\n",
       "      <td>0.563925</td>\n",
       "    </tr>\n",
       "    <tr>\n",
       "      <th>3</th>\n",
       "      <td>4</td>\n",
       "      <td>2023-03-25</td>\n",
       "      <td>Saturday</td>\n",
       "      <td>Paradise</td>\n",
       "      <td>Nevada</td>\n",
       "      <td>Allegiant Stadium</td>\n",
       "      <td>71835</td>\n",
       "      <td>200</td>\n",
       "      <td>40000</td>\n",
       "      <td>83</td>\n",
       "      <td>182</td>\n",
       "      <td>4.1</td>\n",
       "      <td>0.600000</td>\n",
       "      <td>0.563925</td>\n",
       "    </tr>\n",
       "    <tr>\n",
       "      <th>4</th>\n",
       "      <td>5</td>\n",
       "      <td>2023-03-31</td>\n",
       "      <td>Friday</td>\n",
       "      <td>Arlington</td>\n",
       "      <td>Texas</td>\n",
       "      <td>AT&amp;T Stadium</td>\n",
       "      <td>100000</td>\n",
       "      <td>300</td>\n",
       "      <td>70202</td>\n",
       "      <td>126</td>\n",
       "      <td>300</td>\n",
       "      <td>3.2</td>\n",
       "      <td>0.797228</td>\n",
       "      <td>6.000000</td>\n",
       "    </tr>\n",
       "  </tbody>\n",
       "</table>\n",
       "</div>"
      ],
      "text/plain": [
       "   Stop No.       Date       Day       City    State               Venue  \\\n",
       "0         1 2023-03-17    Friday   Glendale  Arizona  State Farm Stadium   \n",
       "1         2 2023-03-18  Saturday   Glendale  Arizona  State Farm Stadium   \n",
       "2         3 2023-03-24    Friday   Paradise   Nevada   Allegiant Stadium   \n",
       "3         4 2023-03-25  Saturday   Paradise   Nevada   Allegiant Stadium   \n",
       "4         5 2023-03-31    Friday  Arlington    Texas        AT&T Stadium   \n",
       "\n",
       "   Capacity  Avg. Ticket Price  Attendance  Pre-Swift Hosp. Price  \\\n",
       "0     78600                250       69000                    142   \n",
       "1     78600                250       77000                    142   \n",
       "2     71835                200       40000                     83   \n",
       "3     71835                200       40000                     83   \n",
       "4    100000                300       70202                    126   \n",
       "\n",
       "   Post-Swift Hosp. Price  Avg. Hosp. Gains (000s)  Avg. Inflation CPI (%)  \\\n",
       "0                     639                      2.8                1.527800   \n",
       "1                     639                      2.8                1.527800   \n",
       "2                     182                      4.1                0.600000   \n",
       "3                     182                      4.1                0.600000   \n",
       "4                     300                      3.2                0.797228   \n",
       "\n",
       "   Food Away Home Inc. (%)  \n",
       "0                 0.563925  \n",
       "1                 0.563925  \n",
       "2                 0.563925  \n",
       "3                 0.563925  \n",
       "4                 6.000000  "
      ]
     },
     "execution_count": 214,
     "metadata": {},
     "output_type": "execute_result"
    }
   ],
   "source": [
    "# Final look of Taylor Swift's Eras Tour dataset that we will be working with\n",
    "\n",
    "eras_df.head()"
   ]
  },
  {
   "cell_type": "markdown",
   "metadata": {},
   "source": [
    "## Dataset #2 (if you have more than one, use name instead of number here)"
   ]
  },
  {
   "cell_type": "code",
   "execution_count": null,
   "metadata": {},
   "outputs": [],
   "source": [
    "## YOUR CODE TO LOAD/CLEAN/TIDY/WRANGLE THE DATA GOES HERE\n",
    "## FEEL FREE TO ADD MULTIPLE CELLS PER SECTION "
   ]
  },
  {
   "cell_type": "markdown",
   "metadata": {},
   "source": [
    "# Results\n",
    "\n",
    "## Exploratory Data Analysis\n",
    "\n",
    "Carry out whatever EDA you need to for your project.  Because every project will be different we can't really give you much of a template at this point. But please make sure you describe the what and why in text here as well as providing interpretation of results and context."
   ]
  },
  {
   "cell_type": "markdown",
   "metadata": {},
   "source": [
    "## First Analysis You Did - Give it a better title\n",
    "\n",
    "Some more words and stuff.  Remember notebooks work best if you interleave the code that generates a result with properly annotate figures and text that puts these results into context."
   ]
  },
  {
   "cell_type": "code",
   "execution_count": null,
   "metadata": {},
   "outputs": [],
   "source": [
    "## YOUR CODE HERE\n",
    "## FEEL FREE TO ADD MULTIPLE CELLS PER SECTION"
   ]
  },
  {
   "cell_type": "markdown",
   "metadata": {},
   "source": [
    "## Second Analysis You Did - Give it a better title\n",
    "\n",
    "Some more words and stuff.  Remember notebooks work best if you interleave the code that generates a result with properly annotate figures and text that puts these results into context."
   ]
  },
  {
   "cell_type": "code",
   "execution_count": null,
   "metadata": {},
   "outputs": [],
   "source": [
    "## YOUR CODE HERE\n",
    "## FEEL FREE TO ADD MULTIPLE CELLS PER SECTION"
   ]
  },
  {
   "cell_type": "markdown",
   "metadata": {},
   "source": [
    "## ETC AD NASEUM\n",
    "\n",
    "Some more words and stuff.  Remember notebooks work best if you interleave the code that generates a result with properly annotate figures and text that puts these results into context."
   ]
  },
  {
   "cell_type": "code",
   "execution_count": null,
   "metadata": {},
   "outputs": [],
   "source": [
    "## YOUR CODE HERE\n",
    "## FEEL FREE TO ADD MULTIPLE CELLS PER SECTION"
   ]
  },
  {
   "cell_type": "markdown",
   "metadata": {},
   "source": [
    "# Ethics & Privacy"
   ]
  },
  {
   "cell_type": "markdown",
   "metadata": {},
   "source": [
   "Possible ethical implications include ensuring the informed consent of those whose data may end up being collected, such as their financial or demographic information. However, the datasets we are choosing to utilize contain no personally identifiable information, so there are limited consequences for privacy and confidentiality. There should also be ethical consideration given to the long-term consequences of analyzing and sharing our results to the public, as it may influence others’ public perceptions of Taylor Swift and the Eras Tour, potentially affecting advertising and investment decisions. This may also have ethical implications surrounding the effect on hotels and small businesses/restaurants whose finances we would analyze as part of the local economies of each city, or the disruption to daily lives that local residents face. Thus, we must ensure that the data we collect is accurate and transparent in its collection, so that biases do not lead to inaccurate conclusions that harm the well-being of businesses and communities.\n"
   ]
  },
  {
   "cell_type": "markdown",
   "metadata": {},
   "source": [
    "# Discusison and Conclusion\n",
    "\n",
    "Wrap it all up here.  Somewhere between 3 and 10 paragraphs roughly.  A good time to refer back to your Background section and review how this work extended the previous stuff. \n",
    "\n",
    "\n",
    "# Team Contributions\n",
    "\n",
    "Speficy who did what.  This should be pretty granular, perhaps bullet points, no more than a few sentences per person."
   ]
  }
 ],
 "metadata": {
  "kernelspec": {
   "display_name": "Python 3 (ipykernel)",
   "language": "python",
   "name": "python3"
  },
  "language_info": {
   "codemirror_mode": {
    "name": "ipython",
    "version": 3
   },
   "file_extension": ".py",
   "mimetype": "text/x-python",
   "name": "python",
   "nbconvert_exporter": "python",
   "pygments_lexer": "ipython3",
   "version": "3.9.7"
  }
 },
 "nbformat": 4,
 "nbformat_minor": 2
}
